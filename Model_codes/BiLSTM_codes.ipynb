{
  "nbformat": 4,
  "nbformat_minor": 0,
  "metadata": {
    "colab": {
      "provenance": [],
      "gpuType": "T4"
    },
    "kernelspec": {
      "name": "python3",
      "display_name": "Python 3"
    },
    "language_info": {
      "name": "python"
    },
    "accelerator": "GPU",
    "gpuClass": "standard",
    "widgets": {
      "application/vnd.jupyter.widget-state+json": {
        "5c3c1105077e4569a2ee0255e6aa6f37": {
          "model_module": "@jupyter-widgets/controls",
          "model_name": "HBoxModel",
          "model_module_version": "1.5.0",
          "state": {
            "_dom_classes": [],
            "_model_module": "@jupyter-widgets/controls",
            "_model_module_version": "1.5.0",
            "_model_name": "HBoxModel",
            "_view_count": null,
            "_view_module": "@jupyter-widgets/controls",
            "_view_module_version": "1.5.0",
            "_view_name": "HBoxView",
            "box_style": "",
            "children": [
              "IPY_MODEL_ae243cc6e33849eeb14674602a8359dd",
              "IPY_MODEL_74f763651b8d47da9bfcb4a777cef272",
              "IPY_MODEL_270a981c75b649eda52907d814102573"
            ],
            "layout": "IPY_MODEL_0e55cb55642e471d91c1edb9e863e728"
          }
        },
        "ae243cc6e33849eeb14674602a8359dd": {
          "model_module": "@jupyter-widgets/controls",
          "model_name": "HTMLModel",
          "model_module_version": "1.5.0",
          "state": {
            "_dom_classes": [],
            "_model_module": "@jupyter-widgets/controls",
            "_model_module_version": "1.5.0",
            "_model_name": "HTMLModel",
            "_view_count": null,
            "_view_module": "@jupyter-widgets/controls",
            "_view_module_version": "1.5.0",
            "_view_name": "HTMLView",
            "description": "",
            "description_tooltip": null,
            "layout": "IPY_MODEL_145c068ad1434d228d7a4c87b77f30a1",
            "placeholder": "​",
            "style": "IPY_MODEL_1a51f5e8ec43420eb77cdfad3254b039",
            "value": "Map: 100%"
          }
        },
        "74f763651b8d47da9bfcb4a777cef272": {
          "model_module": "@jupyter-widgets/controls",
          "model_name": "FloatProgressModel",
          "model_module_version": "1.5.0",
          "state": {
            "_dom_classes": [],
            "_model_module": "@jupyter-widgets/controls",
            "_model_module_version": "1.5.0",
            "_model_name": "FloatProgressModel",
            "_view_count": null,
            "_view_module": "@jupyter-widgets/controls",
            "_view_module_version": "1.5.0",
            "_view_name": "ProgressView",
            "bar_style": "",
            "description": "",
            "description_tooltip": null,
            "layout": "IPY_MODEL_c348885105644ad7a24b4c79ca24c795",
            "max": 13,
            "min": 0,
            "orientation": "horizontal",
            "style": "IPY_MODEL_9ac92f1ee7cf446aa1cb1f1eefb4ef42",
            "value": 13
          }
        },
        "270a981c75b649eda52907d814102573": {
          "model_module": "@jupyter-widgets/controls",
          "model_name": "HTMLModel",
          "model_module_version": "1.5.0",
          "state": {
            "_dom_classes": [],
            "_model_module": "@jupyter-widgets/controls",
            "_model_module_version": "1.5.0",
            "_model_name": "HTMLModel",
            "_view_count": null,
            "_view_module": "@jupyter-widgets/controls",
            "_view_module_version": "1.5.0",
            "_view_name": "HTMLView",
            "description": "",
            "description_tooltip": null,
            "layout": "IPY_MODEL_b94c19e87c754af0b0012e66737de769",
            "placeholder": "​",
            "style": "IPY_MODEL_ea141aad79bb4ac48313425495fb9230",
            "value": " 13/13 [00:00&lt;00:00, 66.35 examples/s]"
          }
        },
        "0e55cb55642e471d91c1edb9e863e728": {
          "model_module": "@jupyter-widgets/base",
          "model_name": "LayoutModel",
          "model_module_version": "1.2.0",
          "state": {
            "_model_module": "@jupyter-widgets/base",
            "_model_module_version": "1.2.0",
            "_model_name": "LayoutModel",
            "_view_count": null,
            "_view_module": "@jupyter-widgets/base",
            "_view_module_version": "1.2.0",
            "_view_name": "LayoutView",
            "align_content": null,
            "align_items": null,
            "align_self": null,
            "border": null,
            "bottom": null,
            "display": null,
            "flex": null,
            "flex_flow": null,
            "grid_area": null,
            "grid_auto_columns": null,
            "grid_auto_flow": null,
            "grid_auto_rows": null,
            "grid_column": null,
            "grid_gap": null,
            "grid_row": null,
            "grid_template_areas": null,
            "grid_template_columns": null,
            "grid_template_rows": null,
            "height": null,
            "justify_content": null,
            "justify_items": null,
            "left": null,
            "margin": null,
            "max_height": null,
            "max_width": null,
            "min_height": null,
            "min_width": null,
            "object_fit": null,
            "object_position": null,
            "order": null,
            "overflow": null,
            "overflow_x": null,
            "overflow_y": null,
            "padding": null,
            "right": null,
            "top": null,
            "visibility": "hidden",
            "width": null
          }
        },
        "145c068ad1434d228d7a4c87b77f30a1": {
          "model_module": "@jupyter-widgets/base",
          "model_name": "LayoutModel",
          "model_module_version": "1.2.0",
          "state": {
            "_model_module": "@jupyter-widgets/base",
            "_model_module_version": "1.2.0",
            "_model_name": "LayoutModel",
            "_view_count": null,
            "_view_module": "@jupyter-widgets/base",
            "_view_module_version": "1.2.0",
            "_view_name": "LayoutView",
            "align_content": null,
            "align_items": null,
            "align_self": null,
            "border": null,
            "bottom": null,
            "display": null,
            "flex": null,
            "flex_flow": null,
            "grid_area": null,
            "grid_auto_columns": null,
            "grid_auto_flow": null,
            "grid_auto_rows": null,
            "grid_column": null,
            "grid_gap": null,
            "grid_row": null,
            "grid_template_areas": null,
            "grid_template_columns": null,
            "grid_template_rows": null,
            "height": null,
            "justify_content": null,
            "justify_items": null,
            "left": null,
            "margin": null,
            "max_height": null,
            "max_width": null,
            "min_height": null,
            "min_width": null,
            "object_fit": null,
            "object_position": null,
            "order": null,
            "overflow": null,
            "overflow_x": null,
            "overflow_y": null,
            "padding": null,
            "right": null,
            "top": null,
            "visibility": null,
            "width": null
          }
        },
        "1a51f5e8ec43420eb77cdfad3254b039": {
          "model_module": "@jupyter-widgets/controls",
          "model_name": "DescriptionStyleModel",
          "model_module_version": "1.5.0",
          "state": {
            "_model_module": "@jupyter-widgets/controls",
            "_model_module_version": "1.5.0",
            "_model_name": "DescriptionStyleModel",
            "_view_count": null,
            "_view_module": "@jupyter-widgets/base",
            "_view_module_version": "1.2.0",
            "_view_name": "StyleView",
            "description_width": ""
          }
        },
        "c348885105644ad7a24b4c79ca24c795": {
          "model_module": "@jupyter-widgets/base",
          "model_name": "LayoutModel",
          "model_module_version": "1.2.0",
          "state": {
            "_model_module": "@jupyter-widgets/base",
            "_model_module_version": "1.2.0",
            "_model_name": "LayoutModel",
            "_view_count": null,
            "_view_module": "@jupyter-widgets/base",
            "_view_module_version": "1.2.0",
            "_view_name": "LayoutView",
            "align_content": null,
            "align_items": null,
            "align_self": null,
            "border": null,
            "bottom": null,
            "display": null,
            "flex": null,
            "flex_flow": null,
            "grid_area": null,
            "grid_auto_columns": null,
            "grid_auto_flow": null,
            "grid_auto_rows": null,
            "grid_column": null,
            "grid_gap": null,
            "grid_row": null,
            "grid_template_areas": null,
            "grid_template_columns": null,
            "grid_template_rows": null,
            "height": null,
            "justify_content": null,
            "justify_items": null,
            "left": null,
            "margin": null,
            "max_height": null,
            "max_width": null,
            "min_height": null,
            "min_width": null,
            "object_fit": null,
            "object_position": null,
            "order": null,
            "overflow": null,
            "overflow_x": null,
            "overflow_y": null,
            "padding": null,
            "right": null,
            "top": null,
            "visibility": null,
            "width": null
          }
        },
        "9ac92f1ee7cf446aa1cb1f1eefb4ef42": {
          "model_module": "@jupyter-widgets/controls",
          "model_name": "ProgressStyleModel",
          "model_module_version": "1.5.0",
          "state": {
            "_model_module": "@jupyter-widgets/controls",
            "_model_module_version": "1.5.0",
            "_model_name": "ProgressStyleModel",
            "_view_count": null,
            "_view_module": "@jupyter-widgets/base",
            "_view_module_version": "1.2.0",
            "_view_name": "StyleView",
            "bar_color": null,
            "description_width": ""
          }
        },
        "b94c19e87c754af0b0012e66737de769": {
          "model_module": "@jupyter-widgets/base",
          "model_name": "LayoutModel",
          "model_module_version": "1.2.0",
          "state": {
            "_model_module": "@jupyter-widgets/base",
            "_model_module_version": "1.2.0",
            "_model_name": "LayoutModel",
            "_view_count": null,
            "_view_module": "@jupyter-widgets/base",
            "_view_module_version": "1.2.0",
            "_view_name": "LayoutView",
            "align_content": null,
            "align_items": null,
            "align_self": null,
            "border": null,
            "bottom": null,
            "display": null,
            "flex": null,
            "flex_flow": null,
            "grid_area": null,
            "grid_auto_columns": null,
            "grid_auto_flow": null,
            "grid_auto_rows": null,
            "grid_column": null,
            "grid_gap": null,
            "grid_row": null,
            "grid_template_areas": null,
            "grid_template_columns": null,
            "grid_template_rows": null,
            "height": null,
            "justify_content": null,
            "justify_items": null,
            "left": null,
            "margin": null,
            "max_height": null,
            "max_width": null,
            "min_height": null,
            "min_width": null,
            "object_fit": null,
            "object_position": null,
            "order": null,
            "overflow": null,
            "overflow_x": null,
            "overflow_y": null,
            "padding": null,
            "right": null,
            "top": null,
            "visibility": null,
            "width": null
          }
        },
        "ea141aad79bb4ac48313425495fb9230": {
          "model_module": "@jupyter-widgets/controls",
          "model_name": "DescriptionStyleModel",
          "model_module_version": "1.5.0",
          "state": {
            "_model_module": "@jupyter-widgets/controls",
            "_model_module_version": "1.5.0",
            "_model_name": "DescriptionStyleModel",
            "_view_count": null,
            "_view_module": "@jupyter-widgets/base",
            "_view_module_version": "1.2.0",
            "_view_name": "StyleView",
            "description_width": ""
          }
        },
        "3cd22b22628f4561aa2acf217aedb45b": {
          "model_module": "@jupyter-widgets/controls",
          "model_name": "HBoxModel",
          "model_module_version": "1.5.0",
          "state": {
            "_dom_classes": [],
            "_model_module": "@jupyter-widgets/controls",
            "_model_module_version": "1.5.0",
            "_model_name": "HBoxModel",
            "_view_count": null,
            "_view_module": "@jupyter-widgets/controls",
            "_view_module_version": "1.5.0",
            "_view_name": "HBoxView",
            "box_style": "",
            "children": [
              "IPY_MODEL_86bce89c862745adaaac8656e07ff005",
              "IPY_MODEL_6807301388684b5681002fa6c7d614b1",
              "IPY_MODEL_6fd1071ad1564c608e22975155d38940"
            ],
            "layout": "IPY_MODEL_8c10bc036df04a6782b53fc3c44b0ae5"
          }
        },
        "86bce89c862745adaaac8656e07ff005": {
          "model_module": "@jupyter-widgets/controls",
          "model_name": "HTMLModel",
          "model_module_version": "1.5.0",
          "state": {
            "_dom_classes": [],
            "_model_module": "@jupyter-widgets/controls",
            "_model_module_version": "1.5.0",
            "_model_name": "HTMLModel",
            "_view_count": null,
            "_view_module": "@jupyter-widgets/controls",
            "_view_module_version": "1.5.0",
            "_view_name": "HTMLView",
            "description": "",
            "description_tooltip": null,
            "layout": "IPY_MODEL_29a04a42cf38420dafda8423a758eaf3",
            "placeholder": "​",
            "style": "IPY_MODEL_fe4516de75cb4a219dd26bab30fe9df8",
            "value": "Downloading builder script: "
          }
        },
        "6807301388684b5681002fa6c7d614b1": {
          "model_module": "@jupyter-widgets/controls",
          "model_name": "FloatProgressModel",
          "model_module_version": "1.5.0",
          "state": {
            "_dom_classes": [],
            "_model_module": "@jupyter-widgets/controls",
            "_model_module_version": "1.5.0",
            "_model_name": "FloatProgressModel",
            "_view_count": null,
            "_view_module": "@jupyter-widgets/controls",
            "_view_module_version": "1.5.0",
            "_view_name": "ProgressView",
            "bar_style": "success",
            "description": "",
            "description_tooltip": null,
            "layout": "IPY_MODEL_f56631c057354bd3bd5fe62cf73218bc",
            "max": 2472,
            "min": 0,
            "orientation": "horizontal",
            "style": "IPY_MODEL_9f94668f4408447d9120febacb620741",
            "value": 2472
          }
        },
        "6fd1071ad1564c608e22975155d38940": {
          "model_module": "@jupyter-widgets/controls",
          "model_name": "HTMLModel",
          "model_module_version": "1.5.0",
          "state": {
            "_dom_classes": [],
            "_model_module": "@jupyter-widgets/controls",
            "_model_module_version": "1.5.0",
            "_model_name": "HTMLModel",
            "_view_count": null,
            "_view_module": "@jupyter-widgets/controls",
            "_view_module_version": "1.5.0",
            "_view_name": "HTMLView",
            "description": "",
            "description_tooltip": null,
            "layout": "IPY_MODEL_750780e045094610909d57eaf04aea74",
            "placeholder": "​",
            "style": "IPY_MODEL_c4cbd158e4814287bd80ee299369f404",
            "value": " 6.33k/? [00:00&lt;00:00, 211kB/s]"
          }
        },
        "8c10bc036df04a6782b53fc3c44b0ae5": {
          "model_module": "@jupyter-widgets/base",
          "model_name": "LayoutModel",
          "model_module_version": "1.2.0",
          "state": {
            "_model_module": "@jupyter-widgets/base",
            "_model_module_version": "1.2.0",
            "_model_name": "LayoutModel",
            "_view_count": null,
            "_view_module": "@jupyter-widgets/base",
            "_view_module_version": "1.2.0",
            "_view_name": "LayoutView",
            "align_content": null,
            "align_items": null,
            "align_self": null,
            "border": null,
            "bottom": null,
            "display": null,
            "flex": null,
            "flex_flow": null,
            "grid_area": null,
            "grid_auto_columns": null,
            "grid_auto_flow": null,
            "grid_auto_rows": null,
            "grid_column": null,
            "grid_gap": null,
            "grid_row": null,
            "grid_template_areas": null,
            "grid_template_columns": null,
            "grid_template_rows": null,
            "height": null,
            "justify_content": null,
            "justify_items": null,
            "left": null,
            "margin": null,
            "max_height": null,
            "max_width": null,
            "min_height": null,
            "min_width": null,
            "object_fit": null,
            "object_position": null,
            "order": null,
            "overflow": null,
            "overflow_x": null,
            "overflow_y": null,
            "padding": null,
            "right": null,
            "top": null,
            "visibility": null,
            "width": null
          }
        },
        "29a04a42cf38420dafda8423a758eaf3": {
          "model_module": "@jupyter-widgets/base",
          "model_name": "LayoutModel",
          "model_module_version": "1.2.0",
          "state": {
            "_model_module": "@jupyter-widgets/base",
            "_model_module_version": "1.2.0",
            "_model_name": "LayoutModel",
            "_view_count": null,
            "_view_module": "@jupyter-widgets/base",
            "_view_module_version": "1.2.0",
            "_view_name": "LayoutView",
            "align_content": null,
            "align_items": null,
            "align_self": null,
            "border": null,
            "bottom": null,
            "display": null,
            "flex": null,
            "flex_flow": null,
            "grid_area": null,
            "grid_auto_columns": null,
            "grid_auto_flow": null,
            "grid_auto_rows": null,
            "grid_column": null,
            "grid_gap": null,
            "grid_row": null,
            "grid_template_areas": null,
            "grid_template_columns": null,
            "grid_template_rows": null,
            "height": null,
            "justify_content": null,
            "justify_items": null,
            "left": null,
            "margin": null,
            "max_height": null,
            "max_width": null,
            "min_height": null,
            "min_width": null,
            "object_fit": null,
            "object_position": null,
            "order": null,
            "overflow": null,
            "overflow_x": null,
            "overflow_y": null,
            "padding": null,
            "right": null,
            "top": null,
            "visibility": null,
            "width": null
          }
        },
        "fe4516de75cb4a219dd26bab30fe9df8": {
          "model_module": "@jupyter-widgets/controls",
          "model_name": "DescriptionStyleModel",
          "model_module_version": "1.5.0",
          "state": {
            "_model_module": "@jupyter-widgets/controls",
            "_model_module_version": "1.5.0",
            "_model_name": "DescriptionStyleModel",
            "_view_count": null,
            "_view_module": "@jupyter-widgets/base",
            "_view_module_version": "1.2.0",
            "_view_name": "StyleView",
            "description_width": ""
          }
        },
        "f56631c057354bd3bd5fe62cf73218bc": {
          "model_module": "@jupyter-widgets/base",
          "model_name": "LayoutModel",
          "model_module_version": "1.2.0",
          "state": {
            "_model_module": "@jupyter-widgets/base",
            "_model_module_version": "1.2.0",
            "_model_name": "LayoutModel",
            "_view_count": null,
            "_view_module": "@jupyter-widgets/base",
            "_view_module_version": "1.2.0",
            "_view_name": "LayoutView",
            "align_content": null,
            "align_items": null,
            "align_self": null,
            "border": null,
            "bottom": null,
            "display": null,
            "flex": null,
            "flex_flow": null,
            "grid_area": null,
            "grid_auto_columns": null,
            "grid_auto_flow": null,
            "grid_auto_rows": null,
            "grid_column": null,
            "grid_gap": null,
            "grid_row": null,
            "grid_template_areas": null,
            "grid_template_columns": null,
            "grid_template_rows": null,
            "height": null,
            "justify_content": null,
            "justify_items": null,
            "left": null,
            "margin": null,
            "max_height": null,
            "max_width": null,
            "min_height": null,
            "min_width": null,
            "object_fit": null,
            "object_position": null,
            "order": null,
            "overflow": null,
            "overflow_x": null,
            "overflow_y": null,
            "padding": null,
            "right": null,
            "top": null,
            "visibility": null,
            "width": null
          }
        },
        "9f94668f4408447d9120febacb620741": {
          "model_module": "@jupyter-widgets/controls",
          "model_name": "ProgressStyleModel",
          "model_module_version": "1.5.0",
          "state": {
            "_model_module": "@jupyter-widgets/controls",
            "_model_module_version": "1.5.0",
            "_model_name": "ProgressStyleModel",
            "_view_count": null,
            "_view_module": "@jupyter-widgets/base",
            "_view_module_version": "1.2.0",
            "_view_name": "StyleView",
            "bar_color": null,
            "description_width": ""
          }
        },
        "750780e045094610909d57eaf04aea74": {
          "model_module": "@jupyter-widgets/base",
          "model_name": "LayoutModel",
          "model_module_version": "1.2.0",
          "state": {
            "_model_module": "@jupyter-widgets/base",
            "_model_module_version": "1.2.0",
            "_model_name": "LayoutModel",
            "_view_count": null,
            "_view_module": "@jupyter-widgets/base",
            "_view_module_version": "1.2.0",
            "_view_name": "LayoutView",
            "align_content": null,
            "align_items": null,
            "align_self": null,
            "border": null,
            "bottom": null,
            "display": null,
            "flex": null,
            "flex_flow": null,
            "grid_area": null,
            "grid_auto_columns": null,
            "grid_auto_flow": null,
            "grid_auto_rows": null,
            "grid_column": null,
            "grid_gap": null,
            "grid_row": null,
            "grid_template_areas": null,
            "grid_template_columns": null,
            "grid_template_rows": null,
            "height": null,
            "justify_content": null,
            "justify_items": null,
            "left": null,
            "margin": null,
            "max_height": null,
            "max_width": null,
            "min_height": null,
            "min_width": null,
            "object_fit": null,
            "object_position": null,
            "order": null,
            "overflow": null,
            "overflow_x": null,
            "overflow_y": null,
            "padding": null,
            "right": null,
            "top": null,
            "visibility": null,
            "width": null
          }
        },
        "c4cbd158e4814287bd80ee299369f404": {
          "model_module": "@jupyter-widgets/controls",
          "model_name": "DescriptionStyleModel",
          "model_module_version": "1.5.0",
          "state": {
            "_model_module": "@jupyter-widgets/controls",
            "_model_module_version": "1.5.0",
            "_model_name": "DescriptionStyleModel",
            "_view_count": null,
            "_view_module": "@jupyter-widgets/base",
            "_view_module_version": "1.2.0",
            "_view_name": "StyleView",
            "description_width": ""
          }
        }
      }
    }
  },
  "cells": [
    {
      "cell_type": "markdown",
      "source": [
        "# Environement configuration"
      ],
      "metadata": {
        "id": "8wLoIjtVyfpn"
      }
    },
    {
      "cell_type": "code",
      "source": [
        "# Install required packages\n",
        "\n",
        "!pip install datasets\n",
        "! pip install transformers==4.27.4\n",
        "! pip install tokenizers==0.13.3\n",
        "!pip install seqeval"
      ],
      "metadata": {
        "id": "n9S_JwdrhHuc"
      },
      "execution_count": null,
      "outputs": []
    },
    {
      "cell_type": "code",
      "execution_count": null,
      "metadata": {
        "colab": {
          "base_uri": "https://localhost:8080/"
        },
        "id": "UzSJzG9Be2-m",
        "outputId": "112f183b-08a5-4a40-c8a9-ec562243cab5"
      },
      "outputs": [
        {
          "output_type": "stream",
          "name": "stderr",
          "text": [
            "[nltk_data] Downloading package punkt to /root/nltk_data...\n",
            "[nltk_data]   Unzipping tokenizers/punkt.zip.\n"
          ]
        }
      ],
      "source": [
        "import pandas as pd\n",
        "import string\n",
        "import re\n",
        "import matplotlib.pyplot as plt\n",
        "import pandas as pd\n",
        "import sklearn\n",
        "from sklearn.model_selection import train_test_split\n",
        "import numpy as np\n",
        "#import nltk\n",
        "#from nltk.corpus import stopwords\n",
        "#nltk.download ('stopwords')\n",
        "import tensorflow as tf\n",
        "import nltk\n",
        "nltk.download('punkt')\n",
        "import datasets \n",
        "import numpy as np \n",
        "from transformers import BertTokenizerFast \n",
        "from transformers import DataCollatorForTokenClassification \n",
        "from transformers import AutoModelForTokenClassification \n",
        "from datasets import DatasetDict, Dataset\n",
        "import torch"
      ]
    },
    {
      "cell_type": "markdown",
      "source": [
        "# Loading & Preprocessing data"
      ],
      "metadata": {
        "id": "jErTKK6cyjqN"
      }
    },
    {
      "cell_type": "code",
      "source": [
        "# Connect to Google Drive for later use\n",
        "from google.colab import drive\n",
        "drive.mount('/content/drive')"
      ],
      "metadata": {
        "id": "AM3vcXo5e-BA",
        "colab": {
          "base_uri": "https://localhost:8080/"
        },
        "outputId": "9e92e164-27e8-4e6c-cafc-00543d86bcfa"
      },
      "execution_count": null,
      "outputs": [
        {
          "output_type": "stream",
          "name": "stdout",
          "text": [
            "Mounted at /content/drive\n"
          ]
        }
      ]
    },
    {
      "cell_type": "code",
      "source": [
        "import json\n",
        "f = open('/content/drive/Shareddrives/CRP_SG/Model_selection/master_dict_output_BERT_patterned_v2.json')\n",
        "data = json.load(f)"
      ],
      "metadata": {
        "id": "IDDVOE-oe-ik"
      },
      "execution_count": null,
      "outputs": []
    },
    {
      "cell_type": "code",
      "source": [
        "# run this cell if you want to select a subset of your data\n",
        "def select_random_part(data, n_max): \n",
        "  new_dict = {}\n",
        "  annotations = np.array(data['annotations'])\n",
        "  np.random.shuffle(annotations)\n",
        "  annotations = annotations[:n_max]\n",
        "  new_dict['annotations'] = annotations\n",
        "  new_dict['classes'] = data['classes']\n",
        "  return new_dict\n",
        "\n",
        "data = select_random_part(data, 10000)"
      ],
      "metadata": {
        "id": "KB3ZdA7ORRaD"
      },
      "execution_count": null,
      "outputs": []
    },
    {
      "cell_type": "code",
      "source": [
        "# Explore dataset\n",
        "print(data.keys())\n",
        "print(data['annotations'][0])\n",
        "print(data['classes'])"
      ],
      "metadata": {
        "id": "PniwK5z3e-xy",
        "colab": {
          "base_uri": "https://localhost:8080/"
        },
        "outputId": "85e40262-a2eb-4777-8a09-c241005de808"
      },
      "execution_count": null,
      "outputs": [
        {
          "output_type": "stream",
          "name": "stdout",
          "text": [
            "dict_keys(['annotations', 'classes'])\n",
            "[',*+_~%. ({ Grunt Kai / de /£-)][;\\'/<^@ ?>`!=|:}$&#\"€ NL67 1099 0897 2377 08'\n",
            " {'id': [72557], 'tokens': [',*+_~%.', '({', 'Grunt', 'Kai', '/', 'de', \"/£-)][;'/<^@\", '?>`!=|:}$&#\"€', 'NL67', '1099', '0897', '2377', '08'], 'ner_tags': [7, 8, 1, 2, 2, 2, 7, 8, 5, 6, 6, 6, 6]}]\n",
            "{'O': 0, 'B-NAME': 1, 'I-NAME': 2, 'B-LOC': 3, 'I-LOC': 4, 'B-ACC': 5, 'I-ACC': 6, 'B-MISC': 7, 'I-MISC': 8}\n"
          ]
        }
      ]
    },
    {
      "cell_type": "code",
      "source": [
        "data_dic = [x[1] for x in data['annotations']]"
      ],
      "metadata": {
        "id": "gv_TD708fB25"
      },
      "execution_count": null,
      "outputs": []
    },
    {
      "cell_type": "code",
      "source": [
        "# Split the data into training and test sets\n",
        "train_data, test_data = train_test_split(data_dic, test_size=0.2, random_state=42)\n",
        "\n",
        "# Split the training data into training and validation sets\n",
        "train_data, val_data = train_test_split(train_data, test_size=0.2, random_state=42)"
      ],
      "metadata": {
        "id": "HluNF9RifB5x"
      },
      "execution_count": null,
      "outputs": []
    },
    {
      "cell_type": "code",
      "source": [
        "print(len(train_data), len(val_data), len(test_data))"
      ],
      "metadata": {
        "id": "ztykdXcyfB9L",
        "colab": {
          "base_uri": "https://localhost:8080/"
        },
        "outputId": "10778646-ccb3-432b-d469-5ef2998c51a9"
      },
      "execution_count": null,
      "outputs": [
        {
          "output_type": "stream",
          "name": "stdout",
          "text": [
            "6400 1600 2000\n"
          ]
        }
      ]
    },
    {
      "cell_type": "code",
      "source": [
        "# Convert the train, val, and test data to Dataset objects\n",
        "train_dataset = Dataset.from_dict({\"id\": [d['id'] for d in train_data], \"tokens\": [d[\"tokens\"] for d in train_data], \"ner_tags\": [d[\"ner_tags\"] for d in train_data]})\n",
        "val_dataset = Dataset.from_dict({\"id\": [d['id'] for d in val_data], \"tokens\": [d[\"tokens\"] for d in val_data], \"ner_tags\": [d[\"ner_tags\"] for d in val_data]})\n",
        "test_dataset = Dataset.from_dict({\"id\": [d['id'] for d in test_data], \"tokens\": [d[\"tokens\"] for d in test_data], \"ner_tags\": [d[\"ner_tags\"] for d in test_data]})\n",
        "\n",
        "# Create the DatasetDict object\n",
        "dataset_sg = DatasetDict({'train': train_dataset, 'validation': val_dataset, 'test': test_dataset})\n"
      ],
      "metadata": {
        "id": "Ah_Yyzz8fCBe"
      },
      "execution_count": null,
      "outputs": []
    },
    {
      "cell_type": "code",
      "source": [
        "print(dataset_sg)"
      ],
      "metadata": {
        "id": "U8A7zZiFfLn-",
        "colab": {
          "base_uri": "https://localhost:8080/"
        },
        "outputId": "72d59353-45f6-4940-f6e3-78e2891bf041"
      },
      "execution_count": null,
      "outputs": [
        {
          "output_type": "stream",
          "name": "stdout",
          "text": [
            "DatasetDict({\n",
            "    train: Dataset({\n",
            "        features: ['id', 'tokens', 'ner_tags'],\n",
            "        num_rows: 6400\n",
            "    })\n",
            "    validation: Dataset({\n",
            "        features: ['id', 'tokens', 'ner_tags'],\n",
            "        num_rows: 1600\n",
            "    })\n",
            "    test: Dataset({\n",
            "        features: ['id', 'tokens', 'ner_tags'],\n",
            "        num_rows: 2000\n",
            "    })\n",
            "})\n"
          ]
        }
      ]
    },
    {
      "cell_type": "code",
      "source": [
        "# Preprocessing\n",
        "def tokenize_and_align_labels(examples, label_all_tokens=True): \n",
        "    tokenized_inputs = tokenizer(examples[\"tokens\"], truncation=True, is_split_into_words=True) \n",
        "    labels = [] \n",
        "    for i, label in enumerate(examples[\"ner_tags\"]): \n",
        "        word_ids = tokenized_inputs.word_ids(batch_index=i) \n",
        "        # word_ids() => Return a list mapping the tokens\n",
        "        # to their actual word in the initial sentence.\n",
        "        # It Returns a list indicating the word corresponding to each token. \n",
        "        previous_word_idx = None \n",
        "        label_ids = []\n",
        "        # Special tokens like `<s>` and `<\\s>` are originally mapped to None \n",
        "        # We need to set the label to -100 so they are automatically ignored in the loss function.\n",
        "        for word_idx in word_ids: \n",
        "            if word_idx is None: \n",
        "                # set –100 as the label for these special tokens\n",
        "                label_ids.append(-100)\n",
        "            # For the other tokens in a word, we set the label to either the current label or -100, depending on\n",
        "            # the label_all_tokens flag.\n",
        "            elif word_idx != previous_word_idx:\n",
        "                # if current word_idx is != prev then its the most regular case\n",
        "                # and add the corresponding token                 \n",
        "                label_ids.append(label[word_idx]) \n",
        "            else: \n",
        "                # to take care of sub-words which have the same word_idx\n",
        "                # set -100 as well for them, but only if label_all_tokens == False\n",
        "                label_ids.append(label[word_idx] if label_all_tokens else -100) \n",
        "                # mask the subword representations after the first subword\n",
        "                 \n",
        "            previous_word_idx = word_idx \n",
        "        labels.append(label_ids) \n",
        "    tokenized_inputs[\"labels\"] = labels \n",
        "    return tokenized_inputs "
      ],
      "metadata": {
        "id": "1u4bdMx7fLrZ"
      },
      "execution_count": null,
      "outputs": []
    },
    {
      "cell_type": "code",
      "source": [
        "# Setting gpu devide\n",
        "device = torch.device('cuda' if torch.cuda.is_available() else 'cpu')\n",
        "device"
      ],
      "metadata": {
        "id": "iNsfT1rsfQ9Y",
        "colab": {
          "base_uri": "https://localhost:8080/"
        },
        "outputId": "224e9f26-6313-4f14-8b86-45702facad19"
      },
      "execution_count": null,
      "outputs": [
        {
          "output_type": "execute_result",
          "data": {
            "text/plain": [
              "device(type='cuda')"
            ]
          },
          "metadata": {},
          "execution_count": 14
        }
      ]
    },
    {
      "cell_type": "code",
      "source": [
        "# Load the tokenizer\n",
        "tokenizer = BertTokenizerFast.from_pretrained(\"/content/drive/Shareddrives/CRP_SG/Model_selection/tokenizer_v2\")"
      ],
      "metadata": {
        "id": "7rSETg85fRDF"
      },
      "execution_count": null,
      "outputs": []
    },
    {
      "cell_type": "code",
      "source": [
        "# Access the first example text from the 'train' split of the dataset\n",
        "example_text = dataset_sg['train'][0]\n",
        "\n",
        "# Print the tokens of the example text\n",
        "print(example_text[\"tokens\"])\n",
        "\n",
        "# Tokenize the input text using the tokenizer, splitting it into words\n",
        "tokenized_input = tokenizer(example_text[\"tokens\"], is_split_into_words=True)\n",
        "\n",
        "# Convert the token IDs to their corresponding tokens\n",
        "tokens = tokenizer.convert_ids_to_tokens(tokenized_input[\"input_ids\"])\n",
        "\n",
        "# Retrieve the word IDs assigned by the tokenizer\n",
        "word_ids = tokenized_input.word_ids()\n",
        "\n",
        "# Print the word IDs\n",
        "print(word_ids)\n",
        "# Print the tokenized input\n",
        "tokenized_input"
      ],
      "metadata": {
        "id": "2CBTSyZxfRG-",
        "colab": {
          "base_uri": "https://localhost:8080/"
        },
        "outputId": "323a5068-c638-4eeb-99bd-90f958abd9e9"
      },
      "execution_count": null,
      "outputs": [
        {
          "output_type": "stream",
          "name": "stdout",
          "text": [
            "['FR8266572044170855710079395', 'bert-Vincent', 'Collin-la-Foret', 'France', '59452', '837', 'Guerin', 'avenue', 'A', '*:]$,%`?}£', 'lain', 'Thierry', 'He']\n",
            "[None, 0, 0, 0, 0, 0, 0, 0, 0, 0, 0, 0, 0, 0, 0, 0, 0, 1, 1, 1, 2, 2, 2, 2, 2, 2, 3, 4, 4, 4, 5, 5, 6, 6, 7, 8, 9, 9, 9, 9, 9, 9, 9, 9, 9, 9, 10, 10, 11, 12, None]\n"
          ]
        },
        {
          "output_type": "execute_result",
          "data": {
            "text/plain": [
              "{'input_ids': [101, 10424, 2620, 23833, 26187, 2581, 11387, 22932, 16576, 2692, 27531, 28311, 18613, 2581, 2683, 23499, 2629, 14324, 1011, 6320, 22180, 1011, 2474, 1011, 18921, 2102, 2605, 5354, 19961, 2475, 6640, 2581, 19739, 23282, 3927, 1037, 1008, 1024, 1033, 1002, 1010, 1003, 1036, 1029, 1065, 1069, 21110, 2078, 26413, 2002, 102], 'token_type_ids': [0, 0, 0, 0, 0, 0, 0, 0, 0, 0, 0, 0, 0, 0, 0, 0, 0, 0, 0, 0, 0, 0, 0, 0, 0, 0, 0, 0, 0, 0, 0, 0, 0, 0, 0, 0, 0, 0, 0, 0, 0, 0, 0, 0, 0, 0, 0, 0, 0, 0, 0], 'attention_mask': [1, 1, 1, 1, 1, 1, 1, 1, 1, 1, 1, 1, 1, 1, 1, 1, 1, 1, 1, 1, 1, 1, 1, 1, 1, 1, 1, 1, 1, 1, 1, 1, 1, 1, 1, 1, 1, 1, 1, 1, 1, 1, 1, 1, 1, 1, 1, 1, 1, 1, 1]}"
            ]
          },
          "metadata": {},
          "execution_count": 16
        }
      ]
    },
    {
      "cell_type": "code",
      "source": [
        "q = tokenize_and_align_labels(dataset_sg['train'][4:5]) \n",
        "print(q) "
      ],
      "metadata": {
        "id": "AtullrlBfnv1",
        "colab": {
          "base_uri": "https://localhost:8080/"
        },
        "outputId": "63ec33f0-6c40-4da5-89c3-c98d10fb98d4"
      },
      "execution_count": null,
      "outputs": [
        {
          "output_type": "stream",
          "name": "stdout",
          "text": [
            "{'input_ids': [[101, 9686, 19481, 2575, 21619, 2620, 22907, 2683, 14142, 2683, 2683, 2581, 10790, 2575, 2581, 2581, 12521, 2629, 2128, 2050, 11865, 6238, 2474, 9057, 2080, 1010, 3081, 2139, 1007, 1024, 1064, 1063, 1011, 1031, 2030, 11410, 13101, 1020, 13163, 23380, 23499, 3577, 21877, 102]], 'token_type_ids': [[0, 0, 0, 0, 0, 0, 0, 0, 0, 0, 0, 0, 0, 0, 0, 0, 0, 0, 0, 0, 0, 0, 0, 0, 0, 0, 0, 0, 0, 0, 0, 0, 0, 0, 0, 0, 0, 0, 0, 0, 0, 0, 0, 0]], 'attention_mask': [[1, 1, 1, 1, 1, 1, 1, 1, 1, 1, 1, 1, 1, 1, 1, 1, 1, 1, 1, 1, 1, 1, 1, 1, 1, 1, 1, 1, 1, 1, 1, 1, 1, 1, 1, 1, 1, 1, 1, 1, 1, 1, 1, 1]], 'labels': [[-100, 5, 5, 5, 5, 5, 5, 5, 5, 5, 5, 5, 5, 5, 5, 5, 5, 5, 1, 1, 2, 2, 2, 2, 2, 2, 3, 4, 7, 7, 7, 7, 7, 7, 3, 3, 4, 4, 4, 4, 4, 4, 1, -100]]}\n"
          ]
        }
      ]
    },
    {
      "cell_type": "code",
      "source": [
        "tokenized_datasets = dataset_sg.map(tokenize_and_align_labels, batched=True)"
      ],
      "metadata": {
        "id": "bqx9BiVKfn0M"
      },
      "execution_count": null,
      "outputs": []
    },
    {
      "cell_type": "code",
      "source": [
        "from torch.utils.data import TensorDataset, DataLoader\n",
        "\n",
        "# Define a function to select specific features from an example\n",
        "def select_features(example):\n",
        "    # Create a sub-dataset using the selected features\n",
        "    sub_dataset =  Dataset.from_dict({\n",
        "        'id': example['id'],\n",
        "        'input_ids': example['input_ids'],\n",
        "        'token_type_ids': example['token_type_ids'],\n",
        "        'attention_mask': example['attention_mask'],\n",
        "        'labels': example['labels']})\n",
        "    return sub_dataset\n",
        "\n",
        "# Select features for the 'train' split of the tokenized datasets\n",
        "train_tokenized_datasets = select_features(tokenized_datasets['train'])\n",
        "\n",
        "# Select features for the 'validation' split of the tokenized datasets\n",
        "val_tokenized_datasets = select_features(tokenized_datasets['validation'])\n",
        "\n",
        "# Select features for the 'test' split of the tokenized datasets\n",
        "test_tokenized_datasets = select_features(tokenized_datasets['test'])"
      ],
      "metadata": {
        "id": "yAM0HWyEmi82"
      },
      "execution_count": null,
      "outputs": []
    },
    {
      "cell_type": "code",
      "source": [
        "from transformers import DataCollatorForTokenClassification\n",
        "BATCH_SIZE = 64\n",
        "\n",
        "# Initialise datacollator object\n",
        "data_collator = DataCollatorForTokenClassification(tokenizer)\n",
        "\n",
        "# Create Dataloader instance for training, validation and test sets\n",
        "train_dataloader = DataLoader(train_tokenized_datasets, collate_fn=data_collator, batch_size = BATCH_SIZE, shuffle = True)\n",
        "val_dataloader = DataLoader(val_tokenized_datasets, collate_fn=data_collator, batch_size = BATCH_SIZE)\n",
        "test_dataloader = DataLoader(test_tokenized_datasets, collate_fn=data_collator, batch_size = BATCH_SIZE)"
      ],
      "metadata": {
        "id": "3z-QOlg1o-wh"
      },
      "execution_count": null,
      "outputs": []
    },
    {
      "cell_type": "code",
      "source": [
        "label_list = ['O', 'B-NAME', 'I-NAME', 'B-LOC', 'I-LOC', 'B-ACC', 'I-ACC', 'B-MISC', 'I-MISC']\n",
        "metric = datasets.load_metric(\"seqeval\")\n",
        "\n",
        "def compute_metrics(eval_preds): \n",
        "    pred_logits, labels = eval_preds \n",
        "    \n",
        "    pred_logits = np.argmax(pred_logits, axis=2) \n",
        "    # the logits and the probabilities are in the same order,\n",
        "    # so we don’t need to apply the softmax\n",
        "    \n",
        "    # We remove all the values where the label is -100\n",
        "    predictions = [ \n",
        "        [label_list[eval_preds] for (eval_preds, l) in zip(prediction, label) if l != -100] \n",
        "        for prediction, label in zip(pred_logits, labels) \n",
        "    ] \n",
        "    \n",
        "    true_labels = [ \n",
        "      [label_list[l] for (eval_preds, l) in zip(prediction, label) if l != -100] \n",
        "       for prediction, label in zip(pred_logits, labels) \n",
        "   ] \n",
        "    results = metric.compute(predictions=predictions, references=true_labels) \n",
        "    return { \n",
        "   \"precision\": results[\"overall_precision\"], \n",
        "   \"recall\": results[\"overall_recall\"], \n",
        "   \"f1\": results[\"overall_f1\"], \n",
        "  \"accuracy\": results[\"overall_accuracy\"], \n",
        "  } "
      ],
      "metadata": {
        "id": "cQcZaWppD4lI",
        "colab": {
          "base_uri": "https://localhost:8080/",
          "height": 103,
          "referenced_widgets": [
            "3cd22b22628f4561aa2acf217aedb45b",
            "86bce89c862745adaaac8656e07ff005",
            "6807301388684b5681002fa6c7d614b1",
            "6fd1071ad1564c608e22975155d38940",
            "8c10bc036df04a6782b53fc3c44b0ae5",
            "29a04a42cf38420dafda8423a758eaf3",
            "fe4516de75cb4a219dd26bab30fe9df8",
            "f56631c057354bd3bd5fe62cf73218bc",
            "9f94668f4408447d9120febacb620741",
            "750780e045094610909d57eaf04aea74",
            "c4cbd158e4814287bd80ee299369f404"
          ]
        },
        "outputId": "bf5f9134-38d9-4b6a-fe56-b2ed92d9c3ae"
      },
      "execution_count": null,
      "outputs": [
        {
          "output_type": "stream",
          "name": "stderr",
          "text": [
            "<ipython-input-21-e2ff1a70f8ec>:2: FutureWarning: load_metric is deprecated and will be removed in the next major version of datasets. Use 'evaluate.load' instead, from the new library 🤗 Evaluate: https://huggingface.co/docs/evaluate\n",
            "  metric = datasets.load_metric(\"seqeval\")\n"
          ]
        },
        {
          "output_type": "display_data",
          "data": {
            "text/plain": [
              "Downloading builder script:   0%|          | 0.00/2.47k [00:00<?, ?B/s]"
            ],
            "application/vnd.jupyter.widget-view+json": {
              "version_major": 2,
              "version_minor": 0,
              "model_id": "3cd22b22628f4561aa2acf217aedb45b"
            }
          },
          "metadata": {}
        }
      ]
    },
    {
      "cell_type": "markdown",
      "source": [
        "# BiLSTM Model"
      ],
      "metadata": {
        "id": "OUbGCpwuz7we"
      }
    },
    {
      "cell_type": "markdown",
      "source": [
        "## Model definition and training"
      ],
      "metadata": {
        "id": "1ABVPNaa0MmF"
      }
    },
    {
      "cell_type": "code",
      "source": [
        "import torch.nn as nn\n",
        "from torch.nn.utils.rnn import pad_sequence\n",
        "from torch.nn.utils.rnn import pack_padded_sequence, pad_packed_sequence\n",
        "\n",
        "\n",
        "# Load the saved model and the saved tokenizer\n",
        "\n",
        "\n",
        "\"\"\"\n",
        "\n",
        "bert_model = AutoModelForTokenClassification.from_pretrained(\"bert-base-uncased\", num_labels=9, output_hidden_states=True).to(device)\n",
        "tokenizer = BertTokenizerFast.from_pretrained(\"bert-base-uncased\", device=device)\n",
        "\"\"\"\n",
        "class BiLSTM(nn.Module):\n",
        "    def __init__(self, num_classes, hidden_size=30, num_layers=2):\n",
        "        super(BiLSTM, self).__init__()\n",
        "        self.embedding_dim = 768  # BERT embedding dimension\n",
        "        self.hidden_size = hidden_size\n",
        "        self.num_layers = num_layers\n",
        "        \n",
        "        # Define the bi-LSTM layer\n",
        "        self.bilstm = nn.LSTM(input_size=self.embedding_dim, hidden_size=self.hidden_size, \n",
        "                              num_layers=self.num_layers, batch_first=True, dropout=0.2, \n",
        "                              bidirectional=True)\n",
        "        \n",
        "        # Define the output layer\n",
        "        self.fc = nn.Linear(in_features=self.hidden_size*2, out_features=num_classes)\n",
        "        self.softmax = nn.Softmax(dim=2)\n",
        "    \n",
        "    def predict_labels(self, output, attention_mask):\n",
        "        \"\"\"\n",
        "        output: batch_size, max_sentence_len, tag_num\n",
        "        mask: same label data\n",
        "        batch_label: batch_size, sentence_label\n",
        "        \"\"\"\n",
        "\n",
        "\n",
        "        \n",
        "    def forward(self, input_ids, attention_mask):\n",
        "        # input_ids: [batch_size, max_seq_length]\n",
        "        # attention_mask: [batch_size, max_seq_length]\n",
        "        \n",
        "        # Check if input_ids is not empty\n",
        "        if input_ids.shape[1] == 0:\n",
        "            raise ValueError(\"Input tokens are empty\")\n",
        "        \n",
        "        # Obtain BERT embeddings for the input tokens\n",
        "        bert_output = bert_model(input_ids=input_ids, attention_mask=attention_mask)\n",
        "        \n",
        "        # Check if bert_output.hidden_states is not None\n",
        "        if bert_output.hidden_states is None:\n",
        "            raise ValueError(\"No BERT embeddings found\")\n",
        "        \n",
        "        embeddings = bert_output.hidden_states[-1] # Shape (batch_size, max_sequence_len, embedding_dim)\n",
        "        #print(embeddings.shape)\n",
        "        output, _ = self.bilstm(embeddings) # Shape (batch_size, max_sequence_len, hidden_dim*2)\n",
        "        #print(output.shape)\n",
        "        output = self.fc(output) # Shape (batch_size, max_sequence_len, 9)\n",
        "        #print(output.shape)\n",
        "        output = self.softmax(output)\n",
        "        \"\"\"\n",
        "        # Sort the sequences by length in decreasing order for pack_padded_sequence\n",
        "        lengths = attention_mask.sum(dim=1).tolist()\n",
        "        sorted_lengths, sorted_idx = torch.sort(torch.tensor(lengths), descending=True)\n",
        "        embeddings = embeddings[sorted_idx]\n",
        "        \n",
        "        # Pack the sequences and run through the bi-LSTM layer\n",
        "        packed_embeddings = pack_padded_sequence(embeddings, sorted_lengths, batch_first=True, enforce_sorted=False)\n",
        "        output, (hidden, cell) = self.bilstm(packed_embeddings)\n",
        "        padded_output, _ = pad_packed_sequence(output, batch_first=True)\n",
        "        \n",
        "        # Concatenate the forward and backward LSTM outputs and pass through the output layer\n",
        "        logits = self.fc(padded_output)\n",
        "        \"\"\"\n",
        "        #print(f'Output shape {output.shape}')\n",
        "        return output\n",
        "        "
      ],
      "metadata": {
        "id": "1D8z72Qff5CO"
      },
      "execution_count": null,
      "outputs": []
    },
    {
      "cell_type": "code",
      "source": [
        "def predict_labels(output, attention_mask) :\n",
        "        \"\"\"\n",
        "        output: batch_size, max_sentence_len, tag_num\n",
        "        mask: same label data\n",
        "        batch_label: batch_size, sentence_label\n",
        "        \"\"\"\n",
        "        pre_label = []\n",
        "        pre_label_pad = output.argmax(2)\n",
        "        for i in range(attention_mask.shape[0]):\n",
        "            sent_label = []\n",
        "            for j in range(attention_mask.shape[1]):\n",
        "                if attention_mask[i, j] == 1:\n",
        "                    sent_label.append(pre_label_pad[i, j].item())\n",
        "            sent_label = sent_label[1:len(sent_label)-1]\n",
        "            pre_label.append(sent_label)\n",
        "\n",
        "        return pre_label"
      ],
      "metadata": {
        "id": "sAXlHKsDZra0"
      },
      "execution_count": null,
      "outputs": []
    },
    {
      "cell_type": "code",
      "source": [
        "def convert_labels(labels):\n",
        "  new_labels = []\n",
        "  for liste in labels :\n",
        "    liste = list(liste)\n",
        "    while -100 in liste :\n",
        "      liste.remove(-100)\n",
        "    liste = [int(i) for i in liste]\n",
        "    new_labels.append(liste)\n",
        "  return new_labels"
      ],
      "metadata": {
        "id": "tJbm7jURmFaC"
      },
      "execution_count": null,
      "outputs": []
    },
    {
      "cell_type": "code",
      "source": [
        "def compute_scores(preds, original_labels):\n",
        "\n",
        "    c = 0\n",
        "    total = 0\n",
        "    \n",
        "    for i in range(len(preds)):\n",
        "        c += sum(1 for pred, label in zip(preds[i], original_labels[i]) if pred == label)\n",
        "        total += len(preds[i])\n",
        "    \n",
        "    return c, total\n"
      ],
      "metadata": {
        "id": "5ZIiv7UDoFXP"
      },
      "execution_count": null,
      "outputs": []
    },
    {
      "cell_type": "code",
      "source": [
        "def flatten_list(nested_list):\n",
        "    return [item for sublist in nested_list for item in sublist]"
      ],
      "metadata": {
        "id": "b1qFPOK84A_c"
      },
      "execution_count": null,
      "outputs": []
    },
    {
      "cell_type": "code",
      "source": [
        "import torch\n",
        "from tqdm import tqdm\n",
        "from sklearn.metrics import f1_score, precision_score, recall_score, accuracy_score\n",
        "from collections import defaultdict\n",
        "\n",
        "\n",
        "# Define the training loop\n",
        "def train(model, train_dataloader, valid_dataloader, criterion, optimizer, epochs=3):\n",
        "    all_scores = defaultdict(list)\n",
        "    val_accuracy = []\n",
        "\n",
        "\n",
        "    # Train the model for the specified number of epochs\n",
        "    for epoch in range(epochs):\n",
        "        total_prediction = []\n",
        "        total_labels = []\n",
        "        print(f\"Epoch {epoch+1}/{epochs}\")\n",
        "        \n",
        "        # Set the model to training mode\n",
        "        model.train()\n",
        "\n",
        "        # Initialize the running loss and accuracy\n",
        "        running_loss = 0.0\n",
        "        running_corrects = 0\n",
        "        running_total = 0 \n",
        "\n",
        "        # Iterate over the training DataLoader\n",
        "        for batch in tqdm(train_dataloader, desc=\"Training\"):\n",
        "            id = batch.id\n",
        "            inputs = batch.input_ids\n",
        "            \n",
        "            token_type_ids = batch.token_type_ids\n",
        "            attention_masks = batch.attention_mask\n",
        "            labels = batch.labels\n",
        "\n",
        "            # Zero the gradients\n",
        "            optimizer.zero_grad()\n",
        "\n",
        "            # Move the inputs and labels to the GPU if available\n",
        "            \n",
        "            inputs = inputs.to(device)\n",
        "            attention_masks = attention_masks.to(device)\n",
        "            labels = labels.to(device)\n",
        "\n",
        "            outputs = model(inputs, attention_masks)\n",
        "\n",
        "            batch_size, sequence_length, num_classes = outputs.size()\n",
        "\n",
        "            loss = criterion(outputs.view(-1, num_classes), labels.view(-1))\n",
        "\n",
        "            loss.backward()\n",
        "            optimizer.step()\n",
        "            #preds = predict_labels(outputs, attention_masks)\n",
        "            #print(outputs.shape)\n",
        "            preds = predict_labels(outputs, attention_masks)\n",
        "            original_labels = convert_labels(labels)\n",
        "            \n",
        "            \n",
        "            total_prediction = total_prediction + flatten_list(preds)\n",
        "            total_labels = total_labels + flatten_list(original_labels)\n",
        "\n",
        "            #print(preds.shape)           \n",
        "            #print(labels.shape)\n",
        "            \"\"\"\n",
        "            # Flatten labels to match expected format for CrossEntropyLoss\n",
        "            labels = labels.view(-1)\n",
        "\n",
        "            \n",
        "            # Calculate the loss\n",
        "            \n",
        "\n",
        "            # Backward pass and optimization step\n",
        "            \"\"\"\n",
        "\n",
        "            # Update the running loss and accuracy\n",
        "            running_loss += loss.item() * inputs.size(0)\n",
        "            corrects_batch, total_batch = compute_scores(preds, original_labels)\n",
        "            running_corrects += corrects_batch\n",
        "            running_total += total_batch\n",
        "\n",
        "        # Calculate the training loss and accuracy\n",
        "        epoch_loss = running_loss / len(train_dataloader.dataset)\n",
        "        epoch_acc = accuracy_score(total_labels, total_prediction)\n",
        "\n",
        "        print(f\"Train Loss: {epoch_loss:.4f} Train Acc: {epoch_acc:.4f}\")\n",
        "\n",
        "        # Evaluate the model on the validation set\n",
        "        val_loss, scores = evaluate(model, valid_dataloader)\n",
        "\n",
        "\n",
        "        print(f\"Val Loss: {val_loss:.4f} Val Acc: {scores['Accuracy_score']:.4f}\")\n",
        "\n",
        "        all_scores['Training_loss'].append(epoch_loss)\n",
        "        all_scores['Validation_loss'].append(val_loss)\n",
        "        all_scores['F1_score'].append(scores['F1_score'])\n",
        "        all_scores['Precision'].append(scores['Precision'])\n",
        "        all_scores['Recall'].append(scores['Recall'])\n",
        "        all_scores['Accuracy_score'].append(scores['Accuracy_score'])\n",
        "\n",
        "    index_names = ['Epoch' + ' ' + f'{i}' for i in range(epochs)]\n",
        "\n",
        "    return pd.DataFrame(all_scores, index=index_names)\n",
        "\n",
        "\n",
        "#Define a function to evaluate the model on a dataset\n",
        "\n",
        "def evaluate(model, dataloader):\n",
        "    \n",
        "    total_prediction = []\n",
        "    total_labels = []\n",
        "    # Set the model to evaluation mode\n",
        "    model.eval()\n",
        "\n",
        "    # Initialize the running loss and accuracy\n",
        "    running_loss = 0.0\n",
        "    running_corrects = 0\n",
        "    running_total = 0\n",
        "\n",
        "    # Disable gradient calculation to speed up inference\n",
        "    with torch.no_grad():\n",
        "        # Iterate over the validation DataLoader\n",
        "        for batch in tqdm(dataloader, desc=\"Validation\"):\n",
        "            id = batch.id\n",
        "            inputs = batch.input_ids\n",
        "            token_type_ids = batch.token_type_ids\n",
        "            attention_masks = batch.attention_mask\n",
        "            labels = batch.labels\n",
        "\n",
        "            inputs = inputs.to(device)\n",
        "            attention_masks = attention_masks.to(device)\n",
        "            labels = labels.to(device)\n",
        "\n",
        "            outputs = model(inputs, attention_masks)\n",
        "\n",
        "            batch_size, sequence_length, num_classes = outputs.size()\n",
        "\n",
        "            loss = criterion(outputs.view(-1, num_classes), labels.view(-1))\n",
        "\n",
        "            preds = predict_labels(outputs, attention_masks)\n",
        "            original_labels = convert_labels(labels)\n",
        "\n",
        "            total_prediction = total_prediction + flatten_list(preds)\n",
        "            total_labels = total_labels + flatten_list(original_labels)\n",
        "            # Update the running loss and accuracy\n",
        "            running_loss += loss.item() * inputs.size(0)\n",
        "            corrects_batch, total_batch = compute_scores(preds, original_labels)\n",
        "            running_corrects += corrects_batch\n",
        "            running_total += total_batch\n",
        "\n",
        "    # Calculate the validation loss and accuracy\n",
        "    f1 = f1_score(total_labels, total_prediction,average='weighted')\n",
        "    acc = accuracy_score(total_labels, total_prediction)\n",
        "    prec = precision_score(total_labels, total_prediction, average='weighted')\n",
        "    rec = recall_score(total_labels, total_prediction, average='weighted')\n",
        "    scores = {'F1_score':f1, 'Precision':prec, 'Recall':rec, 'Accuracy_score':acc}\n",
        "    epoch_loss = running_loss / len(val_dataloader.dataset)\n",
        "\n",
        "    return epoch_loss, scores"
      ],
      "metadata": {
        "id": "ifhNpCwlf5t8"
      },
      "execution_count": null,
      "outputs": []
    },
    {
      "cell_type": "code",
      "source": [
        "# Define the optimizer and the loss function\n",
        "lr = 1e-2\n",
        "\n",
        "device = torch.device('cuda' if torch.cuda.is_available() else 'cpu')\n",
        "\n",
        "bert_model = AutoModelForTokenClassification.from_pretrained(\"/content/drive/Shareddrives/CRP_SG/Model_selection/ner_model_v2\", num_labels=9, output_hidden_states=True).to(device)\n",
        "\n",
        "tokenizer = BertTokenizerFast.from_pretrained(\"/content/drive/Shareddrives/CRP_SG/Model_selection/tokenizer_v2\")\n",
        "\n",
        "\n",
        "model = BiLSTM(9).to(device)\n",
        "optimizer = torch.optim.Adam(model.parameters(), lr=lr)\n",
        "criterion = torch.nn.CrossEntropyLoss()\n"
      ],
      "metadata": {
        "id": "bR5UAtJGf-xt"
      },
      "execution_count": null,
      "outputs": []
    },
    {
      "cell_type": "markdown",
      "source": [
        "## Fine-Tuning"
      ],
      "metadata": {
        "id": "qn3d14Z40clo"
      }
    },
    {
      "cell_type": "code",
      "source": [
        "# The best results are obtained with hidden_sizes of 30 and with num_layers of 2\n",
        "\n",
        "###DO NOT EXECUTE UNLESS YOU WANT TO PERFORM HYPERPARAMETERS TUNNING\n",
        "\n",
        "\n",
        "from sklearn.model_selection import GridSearchCV\n",
        "\n",
        "hidden_sizes = [10, 20, 30, 50, 100]\n",
        "num_layers = [1, 2, 5, 10]\n",
        "perf_dict = {}\n",
        "\n",
        "for hidden_size in hidden_sizes : \n",
        "  for num_layer in num_layers : \n",
        "    model = BiLSTM(num_classes=9, hidden_size = hidden_size, num_layers = num_layer).to(device)\n",
        "    optimizer = torch.optim.Adam(model.parameters(), lr=lr)\n",
        "    criterion = torch.nn.CrossEntropyLoss()\n",
        "    accuracy = train(model, train_dataloader, val_dataloader, criterion, optimizer, epochs=2)\n",
        "    perf_dict[(hidden_sizes, num_layers)] = accuracy\n",
        "\n",
        "\n",
        "max = 0 \n",
        "for key, value in perf_dict.items() :\n",
        "  if value > max :\n",
        "    max = value\n",
        "    best_hyper = key\n",
        "\n",
        "print(f'The best results are obtained with hidden_sizes of {best_hyper[0]} and with num_layers of {best_hyper[1]}')\n"
      ],
      "metadata": {
        "id": "unTS1lYFwtf5"
      },
      "execution_count": null,
      "outputs": []
    },
    {
      "cell_type": "markdown",
      "source": [
        "## Final training - Do not execute"
      ],
      "metadata": {
        "id": "qCGkK51d0i7q"
      }
    },
    {
      "cell_type": "code",
      "source": [
        "train(model, train_dataloader, val_dataloader, criterion, optimizer, epochs=3)"
      ],
      "metadata": {
        "colab": {
          "base_uri": "https://localhost:8080/",
          "height": 404
        },
        "id": "uS0rcRJjX81a",
        "outputId": "39059640-a0a4-4820-fdc0-7e9e01572bbb"
      },
      "execution_count": null,
      "outputs": [
        {
          "output_type": "stream",
          "name": "stdout",
          "text": [
            "Epoch 1/3\n"
          ]
        },
        {
          "output_type": "stream",
          "name": "stderr",
          "text": [
            "Training: 100%|██████████| 100/100 [09:59<00:00,  6.00s/it]\n"
          ]
        },
        {
          "output_type": "stream",
          "name": "stdout",
          "text": [
            "Train Loss: 1.4980 Train Acc: 0.9024\n"
          ]
        },
        {
          "output_type": "stream",
          "name": "stderr",
          "text": [
            "Validation: 100%|██████████| 25/25 [02:57<00:00,  7.11s/it]\n"
          ]
        },
        {
          "output_type": "stream",
          "name": "stdout",
          "text": [
            "Val Loss: 1.4353 Val Acc: 0.9367\n",
            "Epoch 2/3\n"
          ]
        },
        {
          "output_type": "stream",
          "name": "stderr",
          "text": [
            "Training: 100%|██████████| 100/100 [10:31<00:00,  6.32s/it]\n"
          ]
        },
        {
          "output_type": "stream",
          "name": "stdout",
          "text": [
            "Train Loss: 1.4342 Train Acc: 0.9376\n"
          ]
        },
        {
          "output_type": "stream",
          "name": "stderr",
          "text": [
            "Validation: 100%|██████████| 25/25 [02:09<00:00,  5.17s/it]\n"
          ]
        },
        {
          "output_type": "stream",
          "name": "stdout",
          "text": [
            "Val Loss: 1.4358 Val Acc: 0.9361\n",
            "Epoch 3/3\n"
          ]
        },
        {
          "output_type": "stream",
          "name": "stderr",
          "text": [
            "Training: 100%|██████████| 100/100 [09:41<00:00,  5.81s/it]\n"
          ]
        },
        {
          "output_type": "stream",
          "name": "stdout",
          "text": [
            "Train Loss: 1.4340 Train Acc: 0.9378\n"
          ]
        },
        {
          "output_type": "stream",
          "name": "stderr",
          "text": [
            "Validation: 100%|██████████| 25/25 [02:04<00:00,  4.97s/it]"
          ]
        },
        {
          "output_type": "stream",
          "name": "stdout",
          "text": [
            "Val Loss: 1.4355 Val Acc: 0.9363\n"
          ]
        },
        {
          "output_type": "stream",
          "name": "stderr",
          "text": [
            "\n"
          ]
        },
        {
          "output_type": "execute_result",
          "data": {
            "text/plain": [
              "         Training_loss  Validation_loss  F1_score  Precision    Recall  \\\n",
              "Epoch 0       1.498020         1.435343  0.936479   0.936747  0.936657   \n",
              "Epoch 1       1.434224         1.435791  0.936208   0.936480  0.936098   \n",
              "Epoch 2       1.433980         1.435498  0.935896   0.936302  0.936258   \n",
              "\n",
              "         Accuracy_score  \n",
              "Epoch 0        0.936657  \n",
              "Epoch 1        0.936098  \n",
              "Epoch 2        0.936258  "
            ],
            "text/html": [
              "\n",
              "  <div id=\"df-f39e9d8a-b7c9-45d9-b654-ddce7753828a\">\n",
              "    <div class=\"colab-df-container\">\n",
              "      <div>\n",
              "<style scoped>\n",
              "    .dataframe tbody tr th:only-of-type {\n",
              "        vertical-align: middle;\n",
              "    }\n",
              "\n",
              "    .dataframe tbody tr th {\n",
              "        vertical-align: top;\n",
              "    }\n",
              "\n",
              "    .dataframe thead th {\n",
              "        text-align: right;\n",
              "    }\n",
              "</style>\n",
              "<table border=\"1\" class=\"dataframe\">\n",
              "  <thead>\n",
              "    <tr style=\"text-align: right;\">\n",
              "      <th></th>\n",
              "      <th>Training_loss</th>\n",
              "      <th>Validation_loss</th>\n",
              "      <th>F1_score</th>\n",
              "      <th>Precision</th>\n",
              "      <th>Recall</th>\n",
              "      <th>Accuracy_score</th>\n",
              "    </tr>\n",
              "  </thead>\n",
              "  <tbody>\n",
              "    <tr>\n",
              "      <th>Epoch 0</th>\n",
              "      <td>1.498020</td>\n",
              "      <td>1.435343</td>\n",
              "      <td>0.936479</td>\n",
              "      <td>0.936747</td>\n",
              "      <td>0.936657</td>\n",
              "      <td>0.936657</td>\n",
              "    </tr>\n",
              "    <tr>\n",
              "      <th>Epoch 1</th>\n",
              "      <td>1.434224</td>\n",
              "      <td>1.435791</td>\n",
              "      <td>0.936208</td>\n",
              "      <td>0.936480</td>\n",
              "      <td>0.936098</td>\n",
              "      <td>0.936098</td>\n",
              "    </tr>\n",
              "    <tr>\n",
              "      <th>Epoch 2</th>\n",
              "      <td>1.433980</td>\n",
              "      <td>1.435498</td>\n",
              "      <td>0.935896</td>\n",
              "      <td>0.936302</td>\n",
              "      <td>0.936258</td>\n",
              "      <td>0.936258</td>\n",
              "    </tr>\n",
              "  </tbody>\n",
              "</table>\n",
              "</div>\n",
              "      <button class=\"colab-df-convert\" onclick=\"convertToInteractive('df-f39e9d8a-b7c9-45d9-b654-ddce7753828a')\"\n",
              "              title=\"Convert this dataframe to an interactive table.\"\n",
              "              style=\"display:none;\">\n",
              "        \n",
              "  <svg xmlns=\"http://www.w3.org/2000/svg\" height=\"24px\"viewBox=\"0 0 24 24\"\n",
              "       width=\"24px\">\n",
              "    <path d=\"M0 0h24v24H0V0z\" fill=\"none\"/>\n",
              "    <path d=\"M18.56 5.44l.94 2.06.94-2.06 2.06-.94-2.06-.94-.94-2.06-.94 2.06-2.06.94zm-11 1L8.5 8.5l.94-2.06 2.06-.94-2.06-.94L8.5 2.5l-.94 2.06-2.06.94zm10 10l.94 2.06.94-2.06 2.06-.94-2.06-.94-.94-2.06-.94 2.06-2.06.94z\"/><path d=\"M17.41 7.96l-1.37-1.37c-.4-.4-.92-.59-1.43-.59-.52 0-1.04.2-1.43.59L10.3 9.45l-7.72 7.72c-.78.78-.78 2.05 0 2.83L4 21.41c.39.39.9.59 1.41.59.51 0 1.02-.2 1.41-.59l7.78-7.78 2.81-2.81c.8-.78.8-2.07 0-2.86zM5.41 20L4 18.59l7.72-7.72 1.47 1.35L5.41 20z\"/>\n",
              "  </svg>\n",
              "      </button>\n",
              "      \n",
              "  <style>\n",
              "    .colab-df-container {\n",
              "      display:flex;\n",
              "      flex-wrap:wrap;\n",
              "      gap: 12px;\n",
              "    }\n",
              "\n",
              "    .colab-df-convert {\n",
              "      background-color: #E8F0FE;\n",
              "      border: none;\n",
              "      border-radius: 50%;\n",
              "      cursor: pointer;\n",
              "      display: none;\n",
              "      fill: #1967D2;\n",
              "      height: 32px;\n",
              "      padding: 0 0 0 0;\n",
              "      width: 32px;\n",
              "    }\n",
              "\n",
              "    .colab-df-convert:hover {\n",
              "      background-color: #E2EBFA;\n",
              "      box-shadow: 0px 1px 2px rgba(60, 64, 67, 0.3), 0px 1px 3px 1px rgba(60, 64, 67, 0.15);\n",
              "      fill: #174EA6;\n",
              "    }\n",
              "\n",
              "    [theme=dark] .colab-df-convert {\n",
              "      background-color: #3B4455;\n",
              "      fill: #D2E3FC;\n",
              "    }\n",
              "\n",
              "    [theme=dark] .colab-df-convert:hover {\n",
              "      background-color: #434B5C;\n",
              "      box-shadow: 0px 1px 3px 1px rgba(0, 0, 0, 0.15);\n",
              "      filter: drop-shadow(0px 1px 2px rgba(0, 0, 0, 0.3));\n",
              "      fill: #FFFFFF;\n",
              "    }\n",
              "  </style>\n",
              "\n",
              "      <script>\n",
              "        const buttonEl =\n",
              "          document.querySelector('#df-f39e9d8a-b7c9-45d9-b654-ddce7753828a button.colab-df-convert');\n",
              "        buttonEl.style.display =\n",
              "          google.colab.kernel.accessAllowed ? 'block' : 'none';\n",
              "\n",
              "        async function convertToInteractive(key) {\n",
              "          const element = document.querySelector('#df-f39e9d8a-b7c9-45d9-b654-ddce7753828a');\n",
              "          const dataTable =\n",
              "            await google.colab.kernel.invokeFunction('convertToInteractive',\n",
              "                                                     [key], {});\n",
              "          if (!dataTable) return;\n",
              "\n",
              "          const docLinkHtml = 'Like what you see? Visit the ' +\n",
              "            '<a target=\"_blank\" href=https://colab.research.google.com/notebooks/data_table.ipynb>data table notebook</a>'\n",
              "            + ' to learn more about interactive tables.';\n",
              "          element.innerHTML = '';\n",
              "          dataTable['output_type'] = 'display_data';\n",
              "          await google.colab.output.renderOutput(dataTable, element);\n",
              "          const docLink = document.createElement('div');\n",
              "          docLink.innerHTML = docLinkHtml;\n",
              "          element.appendChild(docLink);\n",
              "        }\n",
              "      </script>\n",
              "    </div>\n",
              "  </div>\n",
              "  "
            ]
          },
          "metadata": {},
          "execution_count": 98
        }
      ]
    },
    {
      "cell_type": "markdown",
      "source": [
        "## Saving the trained model, loading it and evaluating it"
      ],
      "metadata": {
        "id": "HT_BCcKt04u2"
      }
    },
    {
      "cell_type": "code",
      "source": [
        "torch.save(model.state_dict(), \"/content/drive/Shareddrives/CRP_SG/Model_selection/BiLSTM_model/BiLSTM_Model_small_dataset\")"
      ],
      "metadata": {
        "id": "Ba5CcrbAxwYH"
      },
      "execution_count": null,
      "outputs": []
    },
    {
      "cell_type": "code",
      "source": [
        "model = BiLSTM(9).to(device)\n",
        "model.load_state_dict(torch.load(\"/content/drive/Shareddrives/CRP_SG/Model_selection/BiLSTM_model/BiLSTM_Model_small_dataset\"))"
      ],
      "metadata": {
        "id": "lQ-FzXS2yGUr",
        "colab": {
          "base_uri": "https://localhost:8080/"
        },
        "outputId": "5166b868-14a4-4e90-d5dc-b8ff7ccf504c"
      },
      "execution_count": null,
      "outputs": [
        {
          "output_type": "execute_result",
          "data": {
            "text/plain": [
              "<All keys matched successfully>"
            ]
          },
          "metadata": {},
          "execution_count": 171
        }
      ]
    },
    {
      "cell_type": "code",
      "source": [
        "test_loss, scores = evaluate(model, test_dataloader)\n",
        "print(scores)"
      ],
      "metadata": {
        "id": "sqAceULo3hyU",
        "colab": {
          "base_uri": "https://localhost:8080/"
        },
        "outputId": "f1446125-e7f0-4cb9-cabe-c085fa48e2b8"
      },
      "execution_count": null,
      "outputs": [
        {
          "output_type": "stream",
          "name": "stderr",
          "text": [
            "Validation: 100%|██████████| 32/32 [03:11<00:00,  6.00s/it]\n"
          ]
        },
        {
          "output_type": "stream",
          "name": "stdout",
          "text": [
            "{'F1_score': 0.9359464092364825, 'Precision': 0.9360493845458295, 'Recall': 0.9362074100933708, 'Accuracy_score': 0.9362074100933708}\n"
          ]
        }
      ]
    },
    {
      "cell_type": "markdown",
      "source": [
        "## Eploring Misclassificaitons"
      ],
      "metadata": {
        "id": "hR4TeRmJMUUq"
      }
    },
    {
      "cell_type": "code",
      "source": [
        "def predictions_flattened(model, dataloader):\n",
        "    total_prediction = []\n",
        "    total_labels = []\n",
        "    # Set the model to evaluation mode\n",
        "    model.eval()\n",
        "\n",
        "    # Initialize the running loss and accuracy\n",
        "    running_loss = 0.0\n",
        "    running_corrects = 0\n",
        "    running_total = 0\n",
        "\n",
        "    # Disable gradient calculation to speed up inference\n",
        "    with torch.no_grad():\n",
        "        # Iterate over the validation DataLoader\n",
        "        for batch in tqdm(dataloader, desc=\"Evaluation\"):\n",
        "            id = batch.id\n",
        "            inputs = batch.input_ids\n",
        "            token_type_ids = batch.token_type_ids\n",
        "            attention_masks = batch.attention_mask\n",
        "            labels = batch.labels\n",
        "\n",
        "            inputs = inputs.to(device)\n",
        "            attention_masks = attention_masks.to(device)\n",
        "            labels = labels.to(device)\n",
        "\n",
        "            outputs = model(inputs, attention_masks)\n",
        "\n",
        "            batch_size, sequence_length, num_classes = outputs.size()\n",
        "\n",
        "            loss = criterion(outputs.view(-1, num_classes), labels.view(-1))\n",
        "\n",
        "            preds = predict_labels(outputs, attention_masks)\n",
        "            original_labels = convert_labels(labels)\n",
        "\n",
        "            total_prediction = total_prediction + flatten_list(preds)\n",
        "            total_labels = total_labels + flatten_list(original_labels)\n",
        "\n",
        "\n",
        "    return total_prediction, total_labels"
      ],
      "metadata": {
        "id": "4KM-F0q_41XS"
      },
      "execution_count": null,
      "outputs": []
    },
    {
      "cell_type": "code",
      "source": [
        "predicted_labels, true_labels = predictions_flattened(model, test_dataloader)"
      ],
      "metadata": {
        "colab": {
          "base_uri": "https://localhost:8080/"
        },
        "id": "40k-aTBI41x2",
        "outputId": "93c87ece-09db-4cf1-b927-aed8a9b06183"
      },
      "execution_count": null,
      "outputs": [
        {
          "output_type": "stream",
          "name": "stderr",
          "text": [
            "Evaluation: 100%|██████████| 32/32 [02:51<00:00,  5.36s/it]\n"
          ]
        }
      ]
    },
    {
      "cell_type": "code",
      "source": [
        "index_to_class = {}\n",
        "for key, value in data['classes'].items():\n",
        "  index_to_class[value] = key"
      ],
      "metadata": {
        "id": "1fuRGEdT6mFc"
      },
      "execution_count": null,
      "outputs": []
    },
    {
      "cell_type": "code",
      "source": [
        "class_counts = {}\n",
        "for label in true_labels:\n",
        "    if label in class_counts:\n",
        "        class_counts[label] += 1\n",
        "    else:\n",
        "        class_counts[label] = 1\n",
        "\n",
        "# Extract the class labels and their corresponding counts\n",
        "class_labels = [index_to_class[i] for i in list(class_counts.keys())]\n",
        "class_values = list(class_counts.values())\n",
        "\n",
        "# Create a bar plot of class proportions\n",
        "plt.figure(figsize=(8, 6))\n",
        "plt.bar(class_labels, class_values)\n",
        "plt.xlabel('Class Labels')\n",
        "plt.ylabel('Count')\n",
        "plt.title('Number of Each Class in Labels to predict')\n",
        "plt.show()"
      ],
      "metadata": {
        "colab": {
          "base_uri": "https://localhost:8080/",
          "height": 564
        },
        "id": "zv13PdwKH5iy",
        "outputId": "8873c90f-df1f-4f51-d5b9-f3a205c86e09"
      },
      "execution_count": null,
      "outputs": [
        {
          "output_type": "display_data",
          "data": {
            "text/plain": [
              "<Figure size 800x600 with 1 Axes>"
            ],
            "image/png": "[encoded data removed]"
          },
          "metadata": {}
        }
      ]
    },
    {
      "cell_type": "code",
      "source": [
        "false_pred = [true_labels[i] if predicted_labels[i] != true_labels[i] else -1 for i in range(len(predicted_labels)) ]\n",
        "while -1 in false_pred :\n",
        "  false_pred.remove(-1)"
      ],
      "metadata": {
        "id": "8CsoxskZGJ28"
      },
      "execution_count": null,
      "outputs": []
    },
    {
      "cell_type": "code",
      "source": [
        "import matplotlib.ticker as mticker\n",
        "\n",
        "# Count the occurrences of each class in false_pred\n",
        "class_counts = {}\n",
        "for label in false_pred:\n",
        "    if label in class_counts:\n",
        "        class_counts[label] += 1\n",
        "    else:\n",
        "        class_counts[label] = 1\n",
        "\n",
        "# Calculate the total count\n",
        "total_count = sum(class_counts.values())\n",
        "\n",
        "# Calculate the percentage for each class\n",
        "class_labels = [index_to_class[label] for label in class_counts.keys()]\n",
        "class_percentages = [(count / total_count) * 100 for count in class_counts.values()]\n",
        "\n",
        "# Create a bar plot of class proportions\n",
        "plt.figure(figsize=(8, 6))\n",
        "plt.bar(class_labels, class_percentages)\n",
        "plt.xlabel('Class Labels')\n",
        "plt.ylabel('Percentage')\n",
        "plt.title('Proportion of Each Class in False Predictions')\n",
        "\n",
        "# Add percentage sign to y-axis labels\n",
        "plt.gca().yaxis.set_major_formatter(mticker.PercentFormatter())\n",
        "\n",
        "plt.show()"
      ],
      "metadata": {
        "colab": {
          "base_uri": "https://localhost:8080/",
          "height": 564
        },
        "id": "SOfoRpV6HGmC",
        "outputId": "8ce82868-ef53-4032-dbad-4daf1dce1f3f"
      },
      "execution_count": null,
      "outputs": [
        {
          "output_type": "display_data",
          "data": {
            "text/plain": [
              "<Figure size 800x600 with 1 Axes>"
            ],
            "image/png": "[encoded data removed]"
          },
          "metadata": {}
        }
      ]
    },
    {
      "cell_type": "code",
      "source": [
        "from sklearn.metrics import accuracy_score, confusion_matrix\n",
        "import seaborn as sns\n",
        "\n",
        "from sklearn.metrics import accuracy_score, confusion_matrix\n",
        "import seaborn as sns\n",
        "\n",
        "cm = confusion_matrix(true_labels, predicted_labels)\n",
        "accuracy = accuracy_score(true_labels, predicted_labels)\n",
        "\n",
        "cm_normalized = cm.astype('float') / cm.sum(axis=1)[:, np.newaxis]\n",
        "\n",
        "# Create heatmap\n",
        "plt.figure(figsize=(8, 6))\n",
        "sns.heatmap(cm_normalized, annot=True, fmt=\".2%\", cmap=\"Reds\")\n",
        "\n",
        "# Get class labels from indexes using the idx_to_class dictionary\n",
        "class_labels = [index_to_class[label_idx] for label_idx in sorted(set(true_labels))]\n",
        "\n",
        "plt.title(\"Confusion Matrix (Accuracy: {:.2%})\".format(accuracy))\n",
        "plt.xlabel(\"Predicted Labels\")\n",
        "plt.ylabel(\"True Labels\")\n",
        "\n",
        "# Set x-axis and y-axis labels using class labels\n",
        "plt.xticks(np.arange(len(class_labels)) + 0.5, class_labels)\n",
        "plt.yticks(np.arange(len(class_labels))+ 0.5, class_labels)\n",
        "\n",
        "plt.show()"
      ],
      "metadata": {
        "colab": {
          "base_uri": "https://localhost:8080/",
          "height": 564
        },
        "id": "KQd4DS816ABk",
        "outputId": "3654a2eb-60c2-479c-aa56-de5782f32297"
      },
      "execution_count": null,
      "outputs": [
        {
          "output_type": "display_data",
          "data": {
            "text/plain": [
              "<Figure size 800x600 with 2 Axes>"
            ],
            "image/png": "[encoded data removed]"
          },
          "metadata": {}
        }
      ]
    },
    {
      "cell_type": "markdown",
      "source": [
        "## Testing the model on a random sentence"
      ],
      "metadata": {
        "id": "TmpoGQV5Mc5R"
      }
    },
    {
      "cell_type": "code",
      "source": [
        "def most_frequent(lst):\n",
        "    \"\"\"\n",
        "    Returns the most frequent value in a list.\n",
        "\n",
        "    Args:\n",
        "        lst (list): A list of values.\n",
        "\n",
        "    Returns:\n",
        "        The most frequent value in the list.\n",
        "    \"\"\"\n",
        "    # Create a dictionary to store the count of each value in the list\n",
        "    counts = {}\n",
        "    for item in lst:\n",
        "        if item in counts:\n",
        "            counts[item] += 1\n",
        "        else:\n",
        "            counts[item] = 1\n",
        "\n",
        "    # Find the most frequent value in the dictionary\n",
        "    max_count = 0\n",
        "    max_item = None\n",
        "    for item, count in counts.items():\n",
        "        if count > max_count:\n",
        "            max_count = count\n",
        "            max_item = item\n",
        "\n",
        "    return max_item"
      ],
      "metadata": {
        "id": "7BeLL2D4vQAx"
      },
      "execution_count": null,
      "outputs": []
    },
    {
      "cell_type": "code",
      "source": [
        "from collections import defaultdict\n",
        "\n",
        "f = open('/content/drive/MyDrive/CRP/master_dict_output_BERT_patterned_v2.json')\n",
        "data = json.load(f)\n",
        "\n",
        "n = len(data['annotations'])\n",
        "random_ex = data['annotations'][np.random.randint(n)]\n",
        "example_sequence = random_ex[1]\n",
        "\n",
        "\n",
        "\n",
        "\n",
        "\n",
        "def test(example_sequence):\n",
        "    print(f' Trying to pass the following sequence : {example_sequence}')\n",
        "    print('The predicted classes for the sequence by the BiLSTM are :')\n",
        "    if type(example_sequence) == str : \n",
        "      example_sequence = example_sequence.split(\" \")\n",
        "    \n",
        "    sample_dataset = Dataset.from_dict({\"tokens\": example_sequence})\n",
        "\n",
        "    def tokenize(example):\n",
        "        tokenized_inputs = tokenizer(example_sequence, truncation=True, is_split_into_words=True) \n",
        "        word_ids = tokenized_inputs.word_ids(batch_index=0)\n",
        "        tokenized_inputs['word_ids'] = word_ids\n",
        "        return tokenized_inputs\n",
        "\n",
        "    tokenized_inputs = sample_dataset.map(tokenize)\n",
        "\n",
        "    inputs_ids = torch.tensor(tokenized_inputs[\"input_ids\"]).to(device)\n",
        "    \n",
        "    attention_mask = torch.tensor(tokenized_inputs[\"attention_mask\"]).to(device)\n",
        "\n",
        "    output = model(inputs_ids, attention_mask)\n",
        "    preds = predict_labels(output, attention_mask)\n",
        "    preds = preds[0]\n",
        "    \n",
        "\n",
        "    word_ids = tokenized_inputs['word_ids'][0]\n",
        "\n",
        "    word_dict = defaultdict(list)\n",
        "    index = 0\n",
        "    for _, id in enumerate(word_ids):\n",
        "        if id is not None:\n",
        "            word_dict[id].append(preds[index])\n",
        "            index+=1\n",
        "\n",
        "    final_dict = {}\n",
        "    for key, value in word_dict.items() :\n",
        "      final_dict[example_sequence[key]] = index_to_class[most_frequent(value)]\n",
        "\n",
        "\n",
        "    return final_dict\n",
        "\n",
        "print(test(\"Corentin Delloye 14 Allée du Bord de l'eau FR76 1883 2390 3894 2893\"))\n"
      ],
      "metadata": {
        "colab": {
          "base_uri": "https://localhost:8080/",
          "height": 89,
          "referenced_widgets": [
            "5c3c1105077e4569a2ee0255e6aa6f37",
            "ae243cc6e33849eeb14674602a8359dd",
            "74f763651b8d47da9bfcb4a777cef272",
            "270a981c75b649eda52907d814102573",
            "0e55cb55642e471d91c1edb9e863e728",
            "145c068ad1434d228d7a4c87b77f30a1",
            "1a51f5e8ec43420eb77cdfad3254b039",
            "c348885105644ad7a24b4c79ca24c795",
            "9ac92f1ee7cf446aa1cb1f1eefb4ef42",
            "b94c19e87c754af0b0012e66737de769",
            "ea141aad79bb4ac48313425495fb9230"
          ]
        },
        "id": "eJwT6eHywiyJ",
        "outputId": "9b716c4a-3fb6-4932-857f-4363e1d6743d"
      },
      "execution_count": null,
      "outputs": [
        {
          "output_type": "stream",
          "name": "stdout",
          "text": [
            " Trying to pass the following sequence : Corentin Delloye 14 Allée du Bord de l'eau FR76 1883 2390 3894 2893\n",
            "The predicted classes for the sequence by the BiLSTM are :\n"
          ]
        },
        {
          "output_type": "display_data",
          "data": {
            "text/plain": [
              "Map:   0%|          | 0/13 [00:00<?, ? examples/s]"
            ],
            "application/vnd.jupyter.widget-view+json": {
              "version_major": 2,
              "version_minor": 0,
              "model_id": "5c3c1105077e4569a2ee0255e6aa6f37"
            }
          },
          "metadata": {}
        },
        {
          "output_type": "stream",
          "name": "stdout",
          "text": [
            "{'Corentin': 'B-NAME', 'Delloye': 'I-NAME', '14': 'B-LOC', 'Allée': 'I-LOC', 'du': 'I-LOC', 'Bord': 'I-LOC', 'de': 'I-LOC', \"l'eau\": 'I-LOC', 'FR76': 'I-LOC', '1883': 'I-ACC', '2390': 'I-ACC', '3894': 'I-ACC', '2893': 'I-ACC'}\n"
          ]
        }
      ]
    }
  ]
}