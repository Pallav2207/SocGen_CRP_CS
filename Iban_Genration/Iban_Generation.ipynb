{
  "nbformat": 4,
  "nbformat_minor": 0,
  "metadata": {
    "colab": {
      "provenance": []
    },
    "kernelspec": {
      "name": "python3",
      "display_name": "Python 3"
    },
    "language_info": {
      "name": "python"
    }
  },
  "cells": [
    {
      "cell_type": "code",
      "source": [
        "import pandas as pd\n",
        "import numpy as np"
      ],
      "metadata": {
        "id": "5Lkn8vI2B19I"
      },
      "execution_count": null,
      "outputs": []
    },
    {
      "cell_type": "code",
      "source": [
        "from google.colab import drive\n",
        "drive.mount('/content/drive')"
      ],
      "metadata": {
        "id": "LPZt5uhbB3Tk"
      },
      "execution_count": null,
      "outputs": []
    },
    {
      "cell_type": "code",
      "execution_count": null,
      "metadata": {
        "id": "3gRl3RfMBy3S"
      },
      "outputs": [],
      "source": [
        "# Load the countries_IBAN File that is on git\n",
        "\n",
        "df = pd.read_csv('/content/drive/MyDrive/CRP/countries_IBAN.csv', header = None)\n",
        "df = df.rename(columns={\n",
        "    df.columns[0]: 'Country',\n",
        "    df.columns[1]: 'Nb_digits',\n",
        "    df.columns[2]: 'code',\n",
        "    df.columns[3]: 'Format',\n",
        "    df.columns[4]: 'Instructions'\n",
        "})\n",
        "countries = df['Country']\n",
        "def get_information(country):\n",
        "  dicti = {}\n",
        "  filter_df = df[df['Country'] == country]\n",
        "  num_char = list(filter_df['Nb_digits'])[0]\n",
        "  pattern = str(list(filter_df.iloc[:, 3])[0])\n",
        "  comments = str(list(filter_df.iloc[:, -1])[0])\n",
        "  comments = comments.replace(\"(\", \"\")\n",
        "  comments = comments.replace(\")\", \"\")\n",
        "  comments = comments.replace('\"', '')\n",
        "  if 'always' in comments.split() : \n",
        "    for i in comments.split() :\n",
        "      if i.isnumeric():\n",
        "        number = i \n",
        "        condition = True\n",
        "  else :\n",
        "    condition = False\n",
        "  dicti['country'] = country\n",
        "  if condition:\n",
        "      pattern = pattern[:2] + number + pattern[4:]\n",
        "  dicti['pattern']=pattern\n",
        "  dicti['number_char']=num_char\n",
        "  return dicti"
      ]
    },
    {
      "cell_type": "code",
      "source": [
        "def generate_accounts(information):\n",
        "  dicti = {}\n",
        "  dicti['country'] = information['country']\n",
        "  dicti['pattern'] = information['pattern']\n",
        "  output = list(information['pattern'])\n",
        "  for i in range(len(output)):\n",
        "    if output[i].islower():\n",
        "      number = np.random.randint(10)\n",
        "      output[i] = str(number)\n",
        "  output = ''.join(output)\n",
        "  dicti['output'] = output\n",
        "  return dicti"
      ],
      "metadata": {
        "id": "AaJPyiBdCD-2"
      },
      "execution_count": null,
      "outputs": []
    },
    {
      "cell_type": "code",
      "source": [
        "def generate_IBAN():\n",
        "  information = []\n",
        "  countries = df['Country']\n",
        "  for i in countries:\n",
        "    dicti = get_information(i)\n",
        "    dicti = generate_accounts(dicti)\n",
        "    information.append(dicti)\n",
        "  return information"
      ],
      "metadata": {
        "id": "YD-nQrBuCH16"
      },
      "execution_count": null,
      "outputs": []
    },
    {
      "cell_type": "code",
      "source": [
        "def generate_dataset(number):\n",
        "  output = []\n",
        "  countries = list(df['Country'])\n",
        "  for i in range(number):\n",
        "    if i%100000 == 0:\n",
        "      print(i)\n",
        "    n = np.random.randint(len(countries))\n",
        "    country = countries[n]\n",
        "    dicti = get_information(country)\n",
        "    dicti = generate_accounts(dicti)\n",
        "    output.append((country, dicti['output']))\n",
        "  return output"
      ],
      "metadata": {
        "id": "qOvv_Ru5CKZw"
      },
      "execution_count": null,
      "outputs": []
    },
    {
      "cell_type": "code",
      "source": [
        "array = np.array(generate_dataset(1500000))"
      ],
      "metadata": {
        "id": "eWCbr1wgCMpX"
      },
      "execution_count": null,
      "outputs": []
    },
    {
      "cell_type": "code",
      "source": [
        "df = pd.DataFrame(columns=['Country', 'Iban'])\n",
        "df['Country'] = [array[i][0] for i in range(len(array))]\n",
        "df['Iban'] = [array[i][1] for i in range(len(array))]"
      ],
      "metadata": {
        "id": "krYIgjlFCNEN"
      },
      "execution_count": null,
      "outputs": []
    },
    {
      "cell_type": "code",
      "source": [
        "# Save the dataframe to a csv file\n",
        "df.to_csv('/content/drive/MyDrive/CRP/Iban.csv', index = None)"
      ],
      "metadata": {
        "id": "gP4IdglzCPSk"
      },
      "execution_count": null,
      "outputs": []
    }
  ]
}