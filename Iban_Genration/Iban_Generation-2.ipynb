{
  "nbformat": 4,
  "nbformat_minor": 0,
  "metadata": {
    "colab": {
      "provenance": []
    },
    "kernelspec": {
      "name": "python3",
      "display_name": "Python 3"
    },
    "language_info": {
      "name": "python"
    }
  },
  "cells": [
    {
      "cell_type": "code",
      "source": [
        "import pandas as pd\n",
        "import numpy as np"
      ],
      "metadata": {
        "id": "5Lkn8vI2B19I"
      },
      "execution_count": 1,
      "outputs": []
    },
    {
      "cell_type": "code",
      "source": [
        "# Load the countries_IBAN File that is on git\n",
        "file = 'https://raw.githubusercontent.com/Pallav2207/SocGen_CRP_CS/main/Iban_Genration/countries_IBAN.csv'\n",
        "\n"
      ],
      "metadata": {
        "id": "HbAiKJdNdTow"
      },
      "execution_count": 21,
      "outputs": []
    },
    {
      "cell_type": "code",
      "source": [
        "df = pd.read_csv(file, header = None)"
      ],
      "metadata": {
        "id": "V5JqUJlqhnhD"
      },
      "execution_count": 22,
      "outputs": []
    },
    {
      "cell_type": "code",
      "execution_count": 24,
      "metadata": {
        "id": "3gRl3RfMBy3S"
      },
      "outputs": [],
      "source": [
        "\n",
        "df = df.rename(columns={\n",
        "    df.columns[0]: 'Country',\n",
        "    df.columns[1]: 'Nb_digits',\n",
        "    df.columns[2]: 'code',\n",
        "    df.columns[3]: 'Format',\n",
        "    df.columns[4]: 'Instructions'\n",
        "})\n",
        "countries = df['Country']\n",
        "def get_information(country):\n",
        "  dicti = {}\n",
        "  filter_df = df[df['Country'] == country]\n",
        "  num_char = list(filter_df['Nb_digits'])[0]\n",
        "  pattern = str(list(filter_df.iloc[:, 3])[0])\n",
        "  comments = str(list(filter_df.iloc[:, -1])[0])\n",
        "  comments = comments.replace(\"(\", \"\")\n",
        "  comments = comments.replace(\")\", \"\")\n",
        "  comments = comments.replace('\"', '')\n",
        "  if 'always' in comments.split() : \n",
        "    for i in comments.split() :\n",
        "      if i.isnumeric():\n",
        "        number = i \n",
        "        condition = True\n",
        "  else :\n",
        "    condition = False\n",
        "  dicti['country'] = country\n",
        "  if condition:\n",
        "      pattern = pattern[:2] + number + pattern[4:]\n",
        "  dicti['pattern']=pattern\n",
        "  dicti['number_char']=num_char\n",
        "  return dicti"
      ]
    },
    {
      "cell_type": "code",
      "source": [
        "def generate_accounts(information):\n",
        "  dicti = {}\n",
        "  dicti['country'] = information['country']\n",
        "  dicti['pattern'] = information['pattern']\n",
        "  output = list(information['pattern'])\n",
        "  for i in range(len(output)):\n",
        "    if output[i].islower():\n",
        "      number = np.random.randint(10)\n",
        "      output[i] = str(number)\n",
        "  output = ''.join(output)\n",
        "  dicti['output'] = output\n",
        "  return dicti"
      ],
      "metadata": {
        "id": "AaJPyiBdCD-2"
      },
      "execution_count": 25,
      "outputs": []
    },
    {
      "cell_type": "code",
      "source": [
        "def generate_IBAN():\n",
        "  information = []\n",
        "  countries = df['Country']\n",
        "  for i in countries:\n",
        "    dicti = get_information(i)\n",
        "    dicti = generate_accounts(dicti)\n",
        "    information.append(dicti)\n",
        "  return information"
      ],
      "metadata": {
        "id": "YD-nQrBuCH16"
      },
      "execution_count": 26,
      "outputs": []
    },
    {
      "cell_type": "code",
      "source": [
        "def generate_dataset(number):\n",
        "  output = []\n",
        "  countries = list(df['Country'])\n",
        "  for i in range(number):\n",
        "    if i%100000 == 0:\n",
        "      print(i)\n",
        "    n = np.random.randint(len(countries))\n",
        "    country = countries[n]\n",
        "    dicti = get_information(country)\n",
        "    dicti = generate_accounts(dicti)\n",
        "    output.append((country, dicti['output']))\n",
        "  return output"
      ],
      "metadata": {
        "id": "qOvv_Ru5CKZw"
      },
      "execution_count": 27,
      "outputs": []
    },
    {
      "cell_type": "code",
      "source": [
        "array = np.array(generate_dataset(1500000))"
      ],
      "metadata": {
        "id": "eWCbr1wgCMpX",
        "outputId": "56c84010-92cc-4dcc-ad17-d37c5ff0f54e",
        "colab": {
          "base_uri": "https://localhost:8080/"
        }
      },
      "execution_count": 28,
      "outputs": [
        {
          "output_type": "stream",
          "name": "stdout",
          "text": [
            "0\n",
            "100000\n",
            "200000\n",
            "300000\n",
            "400000\n",
            "500000\n",
            "600000\n",
            "700000\n",
            "800000\n",
            "900000\n",
            "1000000\n",
            "1100000\n",
            "1200000\n",
            "1300000\n",
            "1400000\n"
          ]
        }
      ]
    },
    {
      "cell_type": "code",
      "source": [
        "df = pd.DataFrame(columns=['Country', 'Iban'])\n",
        "df['Country'] = [array[i][0] for i in range(len(array))]\n",
        "df['Iban'] = [array[i][1] for i in range(len(array))]"
      ],
      "metadata": {
        "id": "krYIgjlFCNEN"
      },
      "execution_count": 29,
      "outputs": []
    },
    {
      "cell_type": "code",
      "source": [
        "# Save the dataframe to a csv file\n",
        "df.to_csv('/content/Iban.csv', index = None)"
      ],
      "metadata": {
        "id": "gP4IdglzCPSk"
      },
      "execution_count": 30,
      "outputs": []
    },
    {
      "cell_type": "code",
      "source": [
        "import zipfile\n",
        "with zipfile.ZipFile('Final_Iban.zip', 'w', compression=zipfile.ZIP_DEFLATED) as zip:\n",
        "    zip.write('/content/Iban.csv')"
      ],
      "metadata": {
        "id": "tI-7_7rhnwa0"
      },
      "execution_count": 32,
      "outputs": []
    }
  ]
}