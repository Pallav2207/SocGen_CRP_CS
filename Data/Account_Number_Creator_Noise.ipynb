{
  "nbformat": 4,
  "nbformat_minor": 0,
  "metadata": {
    "colab": {
      "provenance": []
    },
    "kernelspec": {
      "name": "python3",
      "display_name": "Python 3"
    },
    "language_info": {
      "name": "python"
    }
  },
  "cells": [
    {
      "cell_type": "code",
      "execution_count": null,
      "metadata": {
        "colab": {
          "base_uri": "https://localhost:8080/"
        },
        "id": "6SDwGBiUs9on",
        "outputId": "29e3971a-3cf1-4355-9738-e38cc535c5e1"
      },
      "outputs": [
        {
          "output_type": "stream",
          "name": "stdout",
          "text": [
            "Mounted at /content/drive\n"
          ]
        }
      ],
      "source": [
        "from google.colab import drive\n",
        "drive.mount('/content/drive')"
      ]
    },
    {
      "cell_type": "code",
      "source": [
        "import pandas as pd\n",
        "import random\n",
        "import string\n",
        "import re"
      ],
      "metadata": {
        "id": "bbNRDjuLt2Am"
      },
      "execution_count": null,
      "outputs": []
    },
    {
      "cell_type": "code",
      "source": [
        "df = pd.read_csv(\"/content/drive/MyDrive/Final_Iban.csv\")"
      ],
      "metadata": {
        "id": "k94ra_iQtpAh"
      },
      "execution_count": null,
      "outputs": []
    },
    {
      "cell_type": "code",
      "source": [
        "df.head()"
      ],
      "metadata": {
        "colab": {
          "base_uri": "https://localhost:8080/",
          "height": 206
        },
        "id": "hAMJk2f0V2kF",
        "outputId": "65cd4537-2968-49be-cfc4-69e0430dc0bf"
      },
      "execution_count": null,
      "outputs": [
        {
          "output_type": "execute_result",
          "data": {
            "text/plain": [
              "   Country                                Iban\n",
              "0  Lebanon  LB45 0871 0323 6563 8857 1005 4480\n",
              "1   Angola     AO52 1625 9100 8524 8173 8823 5\n",
              "2  Morocco  MA54 3898 6575 3897 8827 4660 4973\n",
              "3    Spain       ES15 3563 6540 7512 0965 3719\n",
              "4    Benin  BJ84 8580 4663 4959 4814 4696 4833"
            ],
            "text/html": [
              "\n",
              "  <div id=\"df-72fb7fbe-6508-4f56-ba14-8cb647243147\">\n",
              "    <div class=\"colab-df-container\">\n",
              "      <div>\n",
              "<style scoped>\n",
              "    .dataframe tbody tr th:only-of-type {\n",
              "        vertical-align: middle;\n",
              "    }\n",
              "\n",
              "    .dataframe tbody tr th {\n",
              "        vertical-align: top;\n",
              "    }\n",
              "\n",
              "    .dataframe thead th {\n",
              "        text-align: right;\n",
              "    }\n",
              "</style>\n",
              "<table border=\"1\" class=\"dataframe\">\n",
              "  <thead>\n",
              "    <tr style=\"text-align: right;\">\n",
              "      <th></th>\n",
              "      <th>Country</th>\n",
              "      <th>Iban</th>\n",
              "    </tr>\n",
              "  </thead>\n",
              "  <tbody>\n",
              "    <tr>\n",
              "      <th>0</th>\n",
              "      <td>Lebanon</td>\n",
              "      <td>LB45 0871 0323 6563 8857 1005 4480</td>\n",
              "    </tr>\n",
              "    <tr>\n",
              "      <th>1</th>\n",
              "      <td>Angola</td>\n",
              "      <td>AO52 1625 9100 8524 8173 8823 5</td>\n",
              "    </tr>\n",
              "    <tr>\n",
              "      <th>2</th>\n",
              "      <td>Morocco</td>\n",
              "      <td>MA54 3898 6575 3897 8827 4660 4973</td>\n",
              "    </tr>\n",
              "    <tr>\n",
              "      <th>3</th>\n",
              "      <td>Spain</td>\n",
              "      <td>ES15 3563 6540 7512 0965 3719</td>\n",
              "    </tr>\n",
              "    <tr>\n",
              "      <th>4</th>\n",
              "      <td>Benin</td>\n",
              "      <td>BJ84 8580 4663 4959 4814 4696 4833</td>\n",
              "    </tr>\n",
              "  </tbody>\n",
              "</table>\n",
              "</div>\n",
              "      <button class=\"colab-df-convert\" onclick=\"convertToInteractive('df-72fb7fbe-6508-4f56-ba14-8cb647243147')\"\n",
              "              title=\"Convert this dataframe to an interactive table.\"\n",
              "              style=\"display:none;\">\n",
              "        \n",
              "  <svg xmlns=\"http://www.w3.org/2000/svg\" height=\"24px\"viewBox=\"0 0 24 24\"\n",
              "       width=\"24px\">\n",
              "    <path d=\"M0 0h24v24H0V0z\" fill=\"none\"/>\n",
              "    <path d=\"M18.56 5.44l.94 2.06.94-2.06 2.06-.94-2.06-.94-.94-2.06-.94 2.06-2.06.94zm-11 1L8.5 8.5l.94-2.06 2.06-.94-2.06-.94L8.5 2.5l-.94 2.06-2.06.94zm10 10l.94 2.06.94-2.06 2.06-.94-2.06-.94-.94-2.06-.94 2.06-2.06.94z\"/><path d=\"M17.41 7.96l-1.37-1.37c-.4-.4-.92-.59-1.43-.59-.52 0-1.04.2-1.43.59L10.3 9.45l-7.72 7.72c-.78.78-.78 2.05 0 2.83L4 21.41c.39.39.9.59 1.41.59.51 0 1.02-.2 1.41-.59l7.78-7.78 2.81-2.81c.8-.78.8-2.07 0-2.86zM5.41 20L4 18.59l7.72-7.72 1.47 1.35L5.41 20z\"/>\n",
              "  </svg>\n",
              "      </button>\n",
              "      \n",
              "  <style>\n",
              "    .colab-df-container {\n",
              "      display:flex;\n",
              "      flex-wrap:wrap;\n",
              "      gap: 12px;\n",
              "    }\n",
              "\n",
              "    .colab-df-convert {\n",
              "      background-color: #E8F0FE;\n",
              "      border: none;\n",
              "      border-radius: 50%;\n",
              "      cursor: pointer;\n",
              "      display: none;\n",
              "      fill: #1967D2;\n",
              "      height: 32px;\n",
              "      padding: 0 0 0 0;\n",
              "      width: 32px;\n",
              "    }\n",
              "\n",
              "    .colab-df-convert:hover {\n",
              "      background-color: #E2EBFA;\n",
              "      box-shadow: 0px 1px 2px rgba(60, 64, 67, 0.3), 0px 1px 3px 1px rgba(60, 64, 67, 0.15);\n",
              "      fill: #174EA6;\n",
              "    }\n",
              "\n",
              "    [theme=dark] .colab-df-convert {\n",
              "      background-color: #3B4455;\n",
              "      fill: #D2E3FC;\n",
              "    }\n",
              "\n",
              "    [theme=dark] .colab-df-convert:hover {\n",
              "      background-color: #434B5C;\n",
              "      box-shadow: 0px 1px 3px 1px rgba(0, 0, 0, 0.15);\n",
              "      filter: drop-shadow(0px 1px 2px rgba(0, 0, 0, 0.3));\n",
              "      fill: #FFFFFF;\n",
              "    }\n",
              "  </style>\n",
              "\n",
              "      <script>\n",
              "        const buttonEl =\n",
              "          document.querySelector('#df-72fb7fbe-6508-4f56-ba14-8cb647243147 button.colab-df-convert');\n",
              "        buttonEl.style.display =\n",
              "          google.colab.kernel.accessAllowed ? 'block' : 'none';\n",
              "\n",
              "        async function convertToInteractive(key) {\n",
              "          const element = document.querySelector('#df-72fb7fbe-6508-4f56-ba14-8cb647243147');\n",
              "          const dataTable =\n",
              "            await google.colab.kernel.invokeFunction('convertToInteractive',\n",
              "                                                     [key], {});\n",
              "          if (!dataTable) return;\n",
              "\n",
              "          const docLinkHtml = 'Like what you see? Visit the ' +\n",
              "            '<a target=\"_blank\" href=https://colab.research.google.com/notebooks/data_table.ipynb>data table notebook</a>'\n",
              "            + ' to learn more about interactive tables.';\n",
              "          element.innerHTML = '';\n",
              "          dataTable['output_type'] = 'display_data';\n",
              "          await google.colab.output.renderOutput(dataTable, element);\n",
              "          const docLink = document.createElement('div');\n",
              "          docLink.innerHTML = docLinkHtml;\n",
              "          element.appendChild(docLink);\n",
              "        }\n",
              "      </script>\n",
              "    </div>\n",
              "  </div>\n",
              "  "
            ]
          },
          "metadata": {},
          "execution_count": 6
        }
      ]
    },
    {
      "cell_type": "code",
      "source": [
        "countries = df['Country'].tolist()"
      ],
      "metadata": {
        "id": "G2fDboBhVyd3"
      },
      "execution_count": null,
      "outputs": []
    },
    {
      "cell_type": "code",
      "source": [
        "#Account number patterns from around the world \n",
        "\n",
        "patterns = [\n",
        "    (1,r\"[A-Z]\\d[A-Z]\\d[A-Z]{5}\\d{5}[A-Z]\\d{2}[A-Z]{4}\"),  # A8B4C91234D2E7F1G6HIJKL\n",
        "    (2,r\"\\d{4}[A-Z]{3}\\d{4}[A-Z]{2}\\d\"),  # 5X3Y9Z2A1234B8C7D\n",
        "    (3,r\"\\d{6}[A-Z]{4}\\d{2}\"),  # 123456ABCD78EFGH\n",
        "    (4,r\"[A-Z]{4}\\d{4}[A-Z]{4}-[A-Z]{4}\"),  # KLMN5678PQRS3456TUVW-XYZA\n",
        "    (5,r\"\\d{1}[A-Z]{1}\\d{1}[A-Z]{3}\\d{6}[A-Z]{4}\"),  # 9F8G7H123456IJKLM1N\n",
        "    (6,r\"[A-Z]{4}\\d{4}-[A-Z]{4}-\\d{4}-[A-Z]{4}-[A-Z]{4}-[A-Z]{4}\"),  # ABCD1234-EFGH-3456-IJKL-MNOP-QRST\n",
        "    (7,r\"\\d{1}[A-Z]{1}\\d{1}[A-Z]{3}-\\d{4}-[A-Z]{1}\\d{1}[A-Z]{3}-\\d{1}[A-Z]{1}\\d{1}[A-Z]{3}\"),  # 1A2B3456-C3D4-E5F6-G7H8\n",
        "    (8,r\"[A-Z]{26}\\d{4}[A-Z]{5}\"),  # ZYXW3456-VUTSRQPONMLKJIHGFEDCBA\n",
        "    (9,r\"\\d{4}-[A-Z]{4}-[A-Z]{4}-\\d{4}\"),  # 6789-ABCD-EFGH-1234\n",
        "    (10,r\"[A-Z]{1}\\d{1}[A-Z]{1}\\d{1}-[A-Z]{2}\\d{2}-[A-Z]{4}-[A-Z]{4}\")  # A1B2-CD34-EFGH-IJKL\n",
        "]"
      ],
      "metadata": {
        "id": "Gv1GYBZbt75I"
      },
      "execution_count": null,
      "outputs": []
    },
    {
      "cell_type": "code",
      "source": [
        "!pip install exrex"
      ],
      "metadata": {
        "colab": {
          "base_uri": "https://localhost:8080/"
        },
        "id": "dHIEMs6n5QFq",
        "outputId": "9f525afd-d84c-4fa5-c78c-4315d4ec6369"
      },
      "execution_count": null,
      "outputs": [
        {
          "output_type": "stream",
          "name": "stdout",
          "text": [
            "Looking in indexes: https://pypi.org/simple, https://us-python.pkg.dev/colab-wheels/public/simple/\n",
            "Collecting exrex\n",
            "  Downloading exrex-0.11.0-py2.py3-none-any.whl (23 kB)\n",
            "Installing collected packages: exrex\n",
            "Successfully installed exrex-0.11.0\n"
          ]
        }
      ]
    },
    {
      "cell_type": "code",
      "source": [
        "import exrex\n",
        "def account_number_creator(country_number):\n",
        "  for pattern in patterns:\n",
        "    if pattern[0] == country_number:\n",
        "      acc_num = exrex.getone(pattern[1])\n",
        "  return acc_num"
      ],
      "metadata": {
        "id": "nS1RyGVKg2m_"
      },
      "execution_count": null,
      "outputs": []
    },
    {
      "cell_type": "code",
      "source": [
        "# List of European countries\n",
        "european_countries = ['Austria', 'Belgium', 'Bulgaria', 'Croatia', 'Cyprus', 'Czech Republic', 'Denmark', 'Estonia', 'Finland', 'France', 'Germany', 'Greece', 'Hungary', 'Ireland', 'Italy', 'Latvia', 'Lithuania', 'Luxembourg', 'Malta', 'Netherlands', 'Poland', 'Portugal', 'Romania', 'Slovakia', 'Slovenia', 'Spain', 'Sweden']\n",
        "\n",
        "# Filter out European countries from the list\n",
        "filtered_countries = set([c for c in countries if c not in european_countries])\n"
      ],
      "metadata": {
        "id": "W91089nxAJ_G"
      },
      "execution_count": null,
      "outputs": []
    },
    {
      "cell_type": "code",
      "source": [
        "filtered_df = df[df['Country'].isin(filtered_countries)]"
      ],
      "metadata": {
        "id": "h7WlRESOAhqa"
      },
      "execution_count": null,
      "outputs": []
    },
    {
      "cell_type": "code",
      "source": [
        "import exrex\n",
        "\n",
        "def generate_numbers(n):\n",
        "  result=[]\n",
        "  for index, pattern in patterns:\n",
        "    for x in range(n//10):\n",
        "      result.append((index,exrex.getone(pattern)))\n",
        "  return result"
      ],
      "metadata": {
        "id": "YgFR41pM6k-a"
      },
      "execution_count": null,
      "outputs": []
    },
    {
      "cell_type": "code",
      "source": [
        "eu_df = df[df['Country'].isin(european_countries)]"
      ],
      "metadata": {
        "id": "cmHXEFUIN4AZ"
      },
      "execution_count": null,
      "outputs": []
    },
    {
      "cell_type": "code",
      "source": [
        "abc = generate_numbers(100)"
      ],
      "metadata": {
        "id": "5CNhH0NG68i_"
      },
      "execution_count": null,
      "outputs": []
    },
    {
      "cell_type": "code",
      "source": [
        "abc"
      ],
      "metadata": {
        "id": "gGMrutkoXk9e"
      },
      "execution_count": null,
      "outputs": []
    },
    {
      "cell_type": "code",
      "source": [
        "list_of_non_eu = set(filtered_df['Country'].tolist())"
      ],
      "metadata": {
        "id": "eWRkbiFDapa7"
      },
      "execution_count": null,
      "outputs": []
    },
    {
      "cell_type": "code",
      "source": [
        "list_of_non_eu"
      ],
      "metadata": {
        "id": "ht6gPip-avFZ"
      },
      "execution_count": null,
      "outputs": []
    },
    {
      "cell_type": "code",
      "source": [
        "country_index = []\n",
        "for country in list_of_non_eu:\n",
        "  country = (random.randint(1, 10), country)\n",
        "  country_index.append(country)"
      ],
      "metadata": {
        "id": "IJZwjXh_c1Uh"
      },
      "execution_count": null,
      "outputs": []
    },
    {
      "cell_type": "code",
      "source": [
        "country_index"
      ],
      "metadata": {
        "colab": {
          "base_uri": "https://localhost:8080/"
        },
        "id": "_NX0GbuOdMQ9",
        "outputId": "34eae3e1-3a2e-4882-c954-fc8aad3680cf"
      },
      "execution_count": null,
      "outputs": [
        {
          "output_type": "execute_result",
          "data": {
            "text/plain": [
              "[(7, 'Burkina Faso'),\n",
              " (6, 'El Salvador'),\n",
              " (7, 'Cabo Verde'),\n",
              " (7, 'Faroe Islands'),\n",
              " (10, 'North Macedonia'),\n",
              " (9, 'Brazil'),\n",
              " (4, 'Guatemala'),\n",
              " (7, 'Albania'),\n",
              " (3, 'Moldova'),\n",
              " (1, 'San Marino'),\n",
              " (2, 'Iraq'),\n",
              " (2, 'Turkey'),\n",
              " (10, 'United Arab Emirates'),\n",
              " (10, 'Saudi Arabia'),\n",
              " (4, 'Switzerland'),\n",
              " (10, \"CÃ´te d'Ivoire\"),\n",
              " (10, 'Niger'),\n",
              " (3, 'Gabon'),\n",
              " (1, 'East Timor'),\n",
              " (5, 'Benin'),\n",
              " (3, 'Cameroon'),\n",
              " (2, 'Andorra'),\n",
              " (6, 'Algeria'),\n",
              " (7, 'Angola'),\n",
              " (5, 'Tunisia'),\n",
              " (10, 'Djibouti'),\n",
              " (2, 'Bosnia and Herzegovina'),\n",
              " (4, 'Mauritania'),\n",
              " (7, 'Seychelles'),\n",
              " (5, 'Palestinian territories'),\n",
              " (7, 'Serbia'),\n",
              " (6, 'Chad'),\n",
              " (9, 'Iceland'),\n",
              " (4, 'Dominican Republic'),\n",
              " (9, 'Iran'),\n",
              " (9, 'Russia'),\n",
              " (1, 'Ukraine'),\n",
              " (7, 'Sao Tome and Principe'),\n",
              " (10, 'Costa Rica'),\n",
              " (10, 'Montenegro'),\n",
              " (10, 'Liechtenstein'),\n",
              " (7, 'Honduras'),\n",
              " (8, 'Sudan'),\n",
              " (4, 'Monaco'),\n",
              " (3, 'Lebanon'),\n",
              " (1, 'Comoros'),\n",
              " (3, 'Qatar'),\n",
              " (4, 'Greenland'),\n",
              " (9, 'Jordan'),\n",
              " (3, 'Mozambique'),\n",
              " (4, 'Vatican City'),\n",
              " (6, 'United Kingdom'),\n",
              " (1, 'Nicaragua'),\n",
              " (5, 'Azerbaijan'),\n",
              " (4, 'Israel'),\n",
              " (9, 'Morocco'),\n",
              " (8, 'Pakistan'),\n",
              " (5, 'Equatorial Guinea'),\n",
              " (5, 'Bahrain'),\n",
              " (6, 'Togo'),\n",
              " (9, 'Kosovo'),\n",
              " (7, 'Egypt'),\n",
              " (2, 'Norway'),\n",
              " (1, 'Central African Republic'),\n",
              " (6, 'Mali'),\n",
              " (4, 'Mauritius'),\n",
              " (4, 'Kazakhstan'),\n",
              " (1, 'Guinea-Bissau'),\n",
              " (7, 'Georgia'),\n",
              " (9, 'Kuwait'),\n",
              " (8, 'Senegal'),\n",
              " (7, 'Libya'),\n",
              " (6, 'Gibraltar'),\n",
              " (10, 'Belarus'),\n",
              " (9, 'Congo'),\n",
              " (7, 'Madagascar'),\n",
              " (2, 'Saint Lucia'),\n",
              " (1, 'Burundi')]"
            ]
          },
          "metadata": {},
          "execution_count": 44
        }
      ]
    },
    {
      "cell_type": "markdown",
      "source": [],
      "metadata": {
        "id": "I9T64mVKauVs"
      }
    },
    {
      "cell_type": "code",
      "source": [
        "abc"
      ],
      "metadata": {
        "id": "eYY_BqMiZLFb"
      },
      "execution_count": null,
      "outputs": []
    },
    {
      "cell_type": "code",
      "source": [
        "random.shuffle(abc)"
      ],
      "metadata": {
        "id": "STit99uB8HIm"
      },
      "execution_count": null,
      "outputs": []
    },
    {
      "cell_type": "code",
      "source": [
        "len(filtered_df)"
      ],
      "metadata": {
        "colab": {
          "base_uri": "https://localhost:8080/"
        },
        "id": "Idj6UgC9EP9B",
        "outputId": "067b399d-8af2-498a-885e-9aa3e7c93c18"
      },
      "execution_count": null,
      "outputs": [
        {
          "output_type": "execute_result",
          "data": {
            "text/plain": [
              "1125029"
            ]
          },
          "metadata": {},
          "execution_count": 105
        }
      ]
    },
    {
      "cell_type": "code",
      "source": [
        "len(abc)"
      ],
      "metadata": {
        "colab": {
          "base_uri": "https://localhost:8080/"
        },
        "id": "5Fp0NC3gERui",
        "outputId": "3320e72a-39af-44c8-938a-312212199392"
      },
      "execution_count": null,
      "outputs": [
        {
          "output_type": "execute_result",
          "data": {
            "text/plain": [
              "1125029"
            ]
          },
          "metadata": {},
          "execution_count": 106
        }
      ]
    },
    {
      "cell_type": "code",
      "source": [
        "xyz = generate_numbers(10)"
      ],
      "metadata": {
        "id": "vtYjzn38NI3N"
      },
      "execution_count": null,
      "outputs": []
    },
    {
      "cell_type": "code",
      "source": [
        "xyz = xyz[:9]"
      ],
      "metadata": {
        "id": "nURo1kCgNMfv"
      },
      "execution_count": null,
      "outputs": []
    },
    {
      "cell_type": "code",
      "source": [
        "len(xyz)"
      ],
      "metadata": {
        "colab": {
          "base_uri": "https://localhost:8080/"
        },
        "id": "cAXDDJdINSLB",
        "outputId": "3334812f-88eb-4a73-8d00-6a5571ccb784"
      },
      "execution_count": null,
      "outputs": [
        {
          "output_type": "execute_result",
          "data": {
            "text/plain": [
              "9"
            ]
          },
          "metadata": {},
          "execution_count": 103
        }
      ]
    },
    {
      "cell_type": "code",
      "source": [
        "for x in xyz:\n",
        "  abc.append(x)"
      ],
      "metadata": {
        "id": "k8GAV3ivNdgE"
      },
      "execution_count": null,
      "outputs": []
    },
    {
      "cell_type": "code",
      "source": [
        "filtered_df.drop('Iban', axis=1, inplace=True)\n",
        "filtered_df['Iban'] = abc"
      ],
      "metadata": {
        "id": "9mTWj2b-Boxw"
      },
      "execution_count": null,
      "outputs": []
    },
    {
      "cell_type": "code",
      "source": [
        "# Concatenate the dataframes vertically\n",
        "result = pd.concat([eu_df, filtered_df])"
      ],
      "metadata": {
        "id": "8CbJUAN58I1_"
      },
      "execution_count": null,
      "outputs": []
    },
    {
      "cell_type": "code",
      "source": [
        "result.to_csv('account_numbers_diffformats.csv', index=False)"
      ],
      "metadata": {
        "id": "oi7WDaLdOLG_"
      },
      "execution_count": null,
      "outputs": []
    },
    {
      "cell_type": "code",
      "source": [
        "# Upload a file to Google Drive\n",
        "file_path = '/content/account_numbers_diffformats.csv'  # Replace with your file path\n",
        "drive_path = '/content/drive/Shareddrives/CRP_SG'  # Replace with your desired destination in Google Drive\n",
        "!cp $file_path $drive_path\n"
      ],
      "metadata": {
        "id": "xGkxTCFQO5jW"
      },
      "execution_count": null,
      "outputs": []
    }
  ]
}